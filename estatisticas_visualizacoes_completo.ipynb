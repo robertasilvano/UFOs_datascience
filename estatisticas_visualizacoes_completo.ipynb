{
 "cells": [
  {
   "cell_type": "markdown",
   "metadata": {},
   "source": [
    "# Estatisticas e visualizações"
   ]
  },
  {
   "cell_type": "code",
   "execution_count": 13,
   "metadata": {},
   "outputs": [],
   "source": [
    "import pandas as pd\n",
    "import numpy as np"
   ]
  },
  {
   "cell_type": "code",
   "execution_count": 14,
   "metadata": {},
   "outputs": [
    {
     "data": {
      "text/html": [
       "<div>\n",
       "<style scoped>\n",
       "    .dataframe tbody tr th:only-of-type {\n",
       "        vertical-align: middle;\n",
       "    }\n",
       "\n",
       "    .dataframe tbody tr th {\n",
       "        vertical-align: top;\n",
       "    }\n",
       "\n",
       "    .dataframe thead th {\n",
       "        text-align: right;\n",
       "    }\n",
       "</style>\n",
       "<table border=\"1\" class=\"dataframe\">\n",
       "  <thead>\n",
       "    <tr style=\"text-align: right;\">\n",
       "      <th></th>\n",
       "      <th>city</th>\n",
       "      <th>state</th>\n",
       "      <th>country</th>\n",
       "      <th>shape</th>\n",
       "      <th>duration_m</th>\n",
       "      <th>comments</th>\n",
       "      <th>latitude</th>\n",
       "      <th>longitude</th>\n",
       "      <th>date</th>\n",
       "    </tr>\n",
       "  </thead>\n",
       "  <tbody>\n",
       "    <tr>\n",
       "      <th>0</th>\n",
       "      <td>san marcos</td>\n",
       "      <td>tx</td>\n",
       "      <td>us</td>\n",
       "      <td>cylinder</td>\n",
       "      <td>45.000000</td>\n",
       "      <td>This event took place in early fall around 194...</td>\n",
       "      <td>29.883056</td>\n",
       "      <td>-97.941111</td>\n",
       "      <td>1949-10-10</td>\n",
       "    </tr>\n",
       "    <tr>\n",
       "      <th>1</th>\n",
       "      <td>edna</td>\n",
       "      <td>tx</td>\n",
       "      <td>us</td>\n",
       "      <td>circle</td>\n",
       "      <td>0.333333</td>\n",
       "      <td>My older brother and twin sister were leaving ...</td>\n",
       "      <td>28.978333</td>\n",
       "      <td>-96.645833</td>\n",
       "      <td>1956-10-10</td>\n",
       "    </tr>\n",
       "    <tr>\n",
       "      <th>2</th>\n",
       "      <td>kaneohe</td>\n",
       "      <td>hi</td>\n",
       "      <td>us</td>\n",
       "      <td>light</td>\n",
       "      <td>15.000000</td>\n",
       "      <td>AS a Marine 1st Lt. flying an FJ4B fighter/att...</td>\n",
       "      <td>21.418056</td>\n",
       "      <td>-157.803611</td>\n",
       "      <td>1960-10-10</td>\n",
       "    </tr>\n",
       "    <tr>\n",
       "      <th>3</th>\n",
       "      <td>bristol</td>\n",
       "      <td>tn</td>\n",
       "      <td>us</td>\n",
       "      <td>sphere</td>\n",
       "      <td>5.000000</td>\n",
       "      <td>My father is now 89 my brother 52 the girl wit...</td>\n",
       "      <td>36.595000</td>\n",
       "      <td>-82.188889</td>\n",
       "      <td>1961-10-10</td>\n",
       "    </tr>\n",
       "    <tr>\n",
       "      <th>4</th>\n",
       "      <td>norwalk</td>\n",
       "      <td>ct</td>\n",
       "      <td>us</td>\n",
       "      <td>disk</td>\n",
       "      <td>20.000000</td>\n",
       "      <td>A bright orange color changing to reddish colo...</td>\n",
       "      <td>41.117500</td>\n",
       "      <td>-73.408333</td>\n",
       "      <td>1965-10-10</td>\n",
       "    </tr>\n",
       "  </tbody>\n",
       "</table>\n",
       "</div>"
      ],
      "text/plain": [
       "         city state country     shape  duration_m  \\\n",
       "0  san marcos    tx      us  cylinder   45.000000   \n",
       "1        edna    tx      us    circle    0.333333   \n",
       "2     kaneohe    hi      us     light   15.000000   \n",
       "3     bristol    tn      us    sphere    5.000000   \n",
       "4     norwalk    ct      us      disk   20.000000   \n",
       "\n",
       "                                            comments   latitude   longitude  \\\n",
       "0  This event took place in early fall around 194...  29.883056  -97.941111   \n",
       "1  My older brother and twin sister were leaving ...  28.978333  -96.645833   \n",
       "2  AS a Marine 1st Lt. flying an FJ4B fighter/att...  21.418056 -157.803611   \n",
       "3  My father is now 89 my brother 52 the girl wit...  36.595000  -82.188889   \n",
       "4  A bright orange color changing to reddish colo...  41.117500  -73.408333   \n",
       "\n",
       "        date  \n",
       "0 1949-10-10  \n",
       "1 1956-10-10  \n",
       "2 1960-10-10  \n",
       "3 1961-10-10  \n",
       "4 1965-10-10  "
      ]
     },
     "execution_count": 14,
     "metadata": {},
     "output_type": "execute_result"
    }
   ],
   "source": [
    "# carregando o df pré processado\n",
    "\n",
    "df = pd.read_csv('pre_processado_completo.csv', parse_dates=['date'])\n",
    "df.head()"
   ]
  },
  {
   "cell_type": "markdown",
   "metadata": {},
   "source": [
    "## Analisando a quantidade de avistamentos por países"
   ]
  },
  {
   "cell_type": "code",
   "execution_count": 15,
   "metadata": {},
   "outputs": [
    {
     "data": {
      "text/html": [
       "<div>\n",
       "<style scoped>\n",
       "    .dataframe tbody tr th:only-of-type {\n",
       "        vertical-align: middle;\n",
       "    }\n",
       "\n",
       "    .dataframe tbody tr th {\n",
       "        vertical-align: top;\n",
       "    }\n",
       "\n",
       "    .dataframe thead th {\n",
       "        text-align: right;\n",
       "    }\n",
       "</style>\n",
       "<table border=\"1\" class=\"dataframe\">\n",
       "  <thead>\n",
       "    <tr style=\"text-align: right;\">\n",
       "      <th></th>\n",
       "      <th>qtd_avistamento_por_pais</th>\n",
       "    </tr>\n",
       "    <tr>\n",
       "      <th>country</th>\n",
       "      <th></th>\n",
       "    </tr>\n",
       "  </thead>\n",
       "  <tbody>\n",
       "    <tr>\n",
       "      <th>au</th>\n",
       "      <td>11</td>\n",
       "    </tr>\n",
       "    <tr>\n",
       "      <th>ca</th>\n",
       "      <td>3193</td>\n",
       "    </tr>\n",
       "    <tr>\n",
       "      <th>gb</th>\n",
       "      <td>11</td>\n",
       "    </tr>\n",
       "    <tr>\n",
       "      <th>us</th>\n",
       "      <td>68055</td>\n",
       "    </tr>\n",
       "  </tbody>\n",
       "</table>\n",
       "</div>"
      ],
      "text/plain": [
       "         qtd_avistamento_por_pais\n",
       "country                          \n",
       "au                             11\n",
       "ca                           3193\n",
       "gb                             11\n",
       "us                          68055"
      ]
     },
     "execution_count": 15,
     "metadata": {},
     "output_type": "execute_result"
    }
   ],
   "source": [
    "# definindo qual país tem a maior quantidade de reports de avistamento\n",
    "\n",
    "df_c = df[['country']]\n",
    "df_c = df_c.groupby(['country'])['country'].count().to_frame()\n",
    "df_c = df_c.rename(columns={'country': 'qtd_avistamento_por_pais'})\n",
    "df_c"
   ]
  },
  {
   "cell_type": "code",
   "execution_count": 16,
   "metadata": {},
   "outputs": [
    {
     "name": "stdout",
     "output_type": "stream",
     "text": [
      "A quantidade máxima de avistamentos por países foi de [68055] no país ['us']\n"
     ]
    }
   ],
   "source": [
    "maxc_qtd = list(df_c.max())\n",
    "maxc_name = list(df_c.idxmax())\n",
    "\n",
    "print(f'A quantidade máxima de avistamentos por países foi de {maxc_qtd} no país {maxc_name}')"
   ]
  },
  {
   "cell_type": "markdown",
   "metadata": {},
   "source": [
    "## Analisando a quantidade de avistamentos por estados no país com maior quantidade de avistamentos [US]"
   ]
  },
  {
   "cell_type": "code",
   "execution_count": 17,
   "metadata": {},
   "outputs": [
    {
     "data": {
      "text/html": [
       "<div>\n",
       "<style scoped>\n",
       "    .dataframe tbody tr th:only-of-type {\n",
       "        vertical-align: middle;\n",
       "    }\n",
       "\n",
       "    .dataframe tbody tr th {\n",
       "        vertical-align: top;\n",
       "    }\n",
       "\n",
       "    .dataframe thead th {\n",
       "        text-align: right;\n",
       "    }\n",
       "</style>\n",
       "<table border=\"1\" class=\"dataframe\">\n",
       "  <thead>\n",
       "    <tr style=\"text-align: right;\">\n",
       "      <th></th>\n",
       "      <th>qtd_avistamento_por_state</th>\n",
       "    </tr>\n",
       "    <tr>\n",
       "      <th>state</th>\n",
       "      <th></th>\n",
       "    </tr>\n",
       "  </thead>\n",
       "  <tbody>\n",
       "    <tr>\n",
       "      <th>ak</th>\n",
       "      <td>332</td>\n",
       "    </tr>\n",
       "    <tr>\n",
       "      <th>al</th>\n",
       "      <td>688</td>\n",
       "    </tr>\n",
       "    <tr>\n",
       "      <th>ar</th>\n",
       "      <td>625</td>\n",
       "    </tr>\n",
       "    <tr>\n",
       "      <th>az</th>\n",
       "      <td>2539</td>\n",
       "    </tr>\n",
       "    <tr>\n",
       "      <th>ca</th>\n",
       "      <td>9259</td>\n",
       "    </tr>\n",
       "  </tbody>\n",
       "</table>\n",
       "</div>"
      ],
      "text/plain": [
       "       qtd_avistamento_por_state\n",
       "state                           \n",
       "ak                           332\n",
       "al                           688\n",
       "ar                           625\n",
       "az                          2539\n",
       "ca                          9259"
      ]
     },
     "execution_count": 17,
     "metadata": {},
     "output_type": "execute_result"
    }
   ],
   "source": [
    "# definindo qual estado do US tem a maior quantidade de reports de avistamento\n",
    "\n",
    "df_s = df.loc[df['country'] == maxc_name[0]]\n",
    "df_s = df_s.groupby(['state'])['state'].count().to_frame()\n",
    "df_s = df_s.rename(columns={'state': 'qtd_avistamento_por_state'})\n",
    "df_s.head()"
   ]
  },
  {
   "cell_type": "code",
   "execution_count": 18,
   "metadata": {},
   "outputs": [
    {
     "data": {
      "text/html": [
       "<div>\n",
       "<style scoped>\n",
       "    .dataframe tbody tr th:only-of-type {\n",
       "        vertical-align: middle;\n",
       "    }\n",
       "\n",
       "    .dataframe tbody tr th {\n",
       "        vertical-align: top;\n",
       "    }\n",
       "\n",
       "    .dataframe thead th {\n",
       "        text-align: right;\n",
       "    }\n",
       "</style>\n",
       "<table border=\"1\" class=\"dataframe\">\n",
       "  <thead>\n",
       "    <tr style=\"text-align: right;\">\n",
       "      <th></th>\n",
       "      <th>qtd_avistamento_por_state</th>\n",
       "    </tr>\n",
       "    <tr>\n",
       "      <th>state</th>\n",
       "      <th></th>\n",
       "    </tr>\n",
       "  </thead>\n",
       "  <tbody>\n",
       "    <tr>\n",
       "      <th>ak</th>\n",
       "      <td>332</td>\n",
       "    </tr>\n",
       "    <tr>\n",
       "      <th>al</th>\n",
       "      <td>688</td>\n",
       "    </tr>\n",
       "    <tr>\n",
       "      <th>ar</th>\n",
       "      <td>625</td>\n",
       "    </tr>\n",
       "    <tr>\n",
       "      <th>az</th>\n",
       "      <td>2539</td>\n",
       "    </tr>\n",
       "    <tr>\n",
       "      <th>ca</th>\n",
       "      <td>9259</td>\n",
       "    </tr>\n",
       "    <tr>\n",
       "      <th>co</th>\n",
       "      <td>1485</td>\n",
       "    </tr>\n",
       "    <tr>\n",
       "      <th>ct</th>\n",
       "      <td>940</td>\n",
       "    </tr>\n",
       "    <tr>\n",
       "      <th>dc</th>\n",
       "      <td>7</td>\n",
       "    </tr>\n",
       "    <tr>\n",
       "      <th>de</th>\n",
       "      <td>179</td>\n",
       "    </tr>\n",
       "    <tr>\n",
       "      <th>fl</th>\n",
       "      <td>4041</td>\n",
       "    </tr>\n",
       "    <tr>\n",
       "      <th>ga</th>\n",
       "      <td>1332</td>\n",
       "    </tr>\n",
       "    <tr>\n",
       "      <th>hi</th>\n",
       "      <td>270</td>\n",
       "    </tr>\n",
       "    <tr>\n",
       "      <th>ia</th>\n",
       "      <td>717</td>\n",
       "    </tr>\n",
       "    <tr>\n",
       "      <th>id</th>\n",
       "      <td>544</td>\n",
       "    </tr>\n",
       "    <tr>\n",
       "      <th>il</th>\n",
       "      <td>2627</td>\n",
       "    </tr>\n",
       "    <tr>\n",
       "      <th>in</th>\n",
       "      <td>1375</td>\n",
       "    </tr>\n",
       "    <tr>\n",
       "      <th>ks</th>\n",
       "      <td>628</td>\n",
       "    </tr>\n",
       "    <tr>\n",
       "      <th>ky</th>\n",
       "      <td>910</td>\n",
       "    </tr>\n",
       "    <tr>\n",
       "      <th>la</th>\n",
       "      <td>579</td>\n",
       "    </tr>\n",
       "    <tr>\n",
       "      <th>ma</th>\n",
       "      <td>1310</td>\n",
       "    </tr>\n",
       "    <tr>\n",
       "      <th>md</th>\n",
       "      <td>864</td>\n",
       "    </tr>\n",
       "    <tr>\n",
       "      <th>me</th>\n",
       "      <td>573</td>\n",
       "    </tr>\n",
       "    <tr>\n",
       "      <th>mi</th>\n",
       "      <td>1897</td>\n",
       "    </tr>\n",
       "    <tr>\n",
       "      <th>mn</th>\n",
       "      <td>1070</td>\n",
       "    </tr>\n",
       "    <tr>\n",
       "      <th>mo</th>\n",
       "      <td>1523</td>\n",
       "    </tr>\n",
       "    <tr>\n",
       "      <th>ms</th>\n",
       "      <td>405</td>\n",
       "    </tr>\n",
       "    <tr>\n",
       "      <th>mt</th>\n",
       "      <td>504</td>\n",
       "    </tr>\n",
       "    <tr>\n",
       "      <th>nc</th>\n",
       "      <td>1837</td>\n",
       "    </tr>\n",
       "    <tr>\n",
       "      <th>nd</th>\n",
       "      <td>134</td>\n",
       "    </tr>\n",
       "    <tr>\n",
       "      <th>ne</th>\n",
       "      <td>406</td>\n",
       "    </tr>\n",
       "    <tr>\n",
       "      <th>nh</th>\n",
       "      <td>512</td>\n",
       "    </tr>\n",
       "    <tr>\n",
       "      <th>nj</th>\n",
       "      <td>1321</td>\n",
       "    </tr>\n",
       "    <tr>\n",
       "      <th>nm</th>\n",
       "      <td>756</td>\n",
       "    </tr>\n",
       "    <tr>\n",
       "      <th>nv</th>\n",
       "      <td>820</td>\n",
       "    </tr>\n",
       "    <tr>\n",
       "      <th>ny</th>\n",
       "      <td>3148</td>\n",
       "    </tr>\n",
       "    <tr>\n",
       "      <th>oh</th>\n",
       "      <td>2425</td>\n",
       "    </tr>\n",
       "    <tr>\n",
       "      <th>ok</th>\n",
       "      <td>760</td>\n",
       "    </tr>\n",
       "    <tr>\n",
       "      <th>or</th>\n",
       "      <td>1764</td>\n",
       "    </tr>\n",
       "    <tr>\n",
       "      <th>pa</th>\n",
       "      <td>2458</td>\n",
       "    </tr>\n",
       "    <tr>\n",
       "      <th>pr</th>\n",
       "      <td>25</td>\n",
       "    </tr>\n",
       "    <tr>\n",
       "      <th>ri</th>\n",
       "      <td>236</td>\n",
       "    </tr>\n",
       "    <tr>\n",
       "      <th>sc</th>\n",
       "      <td>1058</td>\n",
       "    </tr>\n",
       "    <tr>\n",
       "      <th>sd</th>\n",
       "      <td>186</td>\n",
       "    </tr>\n",
       "    <tr>\n",
       "      <th>tn</th>\n",
       "      <td>1187</td>\n",
       "    </tr>\n",
       "    <tr>\n",
       "      <th>tx</th>\n",
       "      <td>3671</td>\n",
       "    </tr>\n",
       "    <tr>\n",
       "      <th>ut</th>\n",
       "      <td>646</td>\n",
       "    </tr>\n",
       "    <tr>\n",
       "      <th>va</th>\n",
       "      <td>1343</td>\n",
       "    </tr>\n",
       "    <tr>\n",
       "      <th>vt</th>\n",
       "      <td>274</td>\n",
       "    </tr>\n",
       "    <tr>\n",
       "      <th>wa</th>\n",
       "      <td>3926</td>\n",
       "    </tr>\n",
       "    <tr>\n",
       "      <th>wi</th>\n",
       "      <td>1275</td>\n",
       "    </tr>\n",
       "    <tr>\n",
       "      <th>wv</th>\n",
       "      <td>480</td>\n",
       "    </tr>\n",
       "    <tr>\n",
       "      <th>wy</th>\n",
       "      <td>184</td>\n",
       "    </tr>\n",
       "  </tbody>\n",
       "</table>\n",
       "</div>"
      ],
      "text/plain": [
       "       qtd_avistamento_por_state\n",
       "state                           \n",
       "ak                           332\n",
       "al                           688\n",
       "ar                           625\n",
       "az                          2539\n",
       "ca                          9259\n",
       "co                          1485\n",
       "ct                           940\n",
       "dc                             7\n",
       "de                           179\n",
       "fl                          4041\n",
       "ga                          1332\n",
       "hi                           270\n",
       "ia                           717\n",
       "id                           544\n",
       "il                          2627\n",
       "in                          1375\n",
       "ks                           628\n",
       "ky                           910\n",
       "la                           579\n",
       "ma                          1310\n",
       "md                           864\n",
       "me                           573\n",
       "mi                          1897\n",
       "mn                          1070\n",
       "mo                          1523\n",
       "ms                           405\n",
       "mt                           504\n",
       "nc                          1837\n",
       "nd                           134\n",
       "ne                           406\n",
       "nh                           512\n",
       "nj                          1321\n",
       "nm                           756\n",
       "nv                           820\n",
       "ny                          3148\n",
       "oh                          2425\n",
       "ok                           760\n",
       "or                          1764\n",
       "pa                          2458\n",
       "pr                            25\n",
       "ri                           236\n",
       "sc                          1058\n",
       "sd                           186\n",
       "tn                          1187\n",
       "tx                          3671\n",
       "ut                           646\n",
       "va                          1343\n",
       "vt                           274\n",
       "wa                          3926\n",
       "wi                          1275\n",
       "wv                           480\n",
       "wy                           184"
      ]
     },
     "execution_count": 18,
     "metadata": {},
     "output_type": "execute_result"
    }
   ],
   "source": [
    "df_s"
   ]
  },
  {
   "cell_type": "code",
   "execution_count": 19,
   "metadata": {},
   "outputs": [
    {
     "name": "stdout",
     "output_type": "stream",
     "text": [
      "A quantidade máxima de avistamentos por estados foi de [9259] no estado ['ca']\n"
     ]
    }
   ],
   "source": [
    "maxs_qtd = list(df_s.max())\n",
    "maxs_name = list(df_s.idxmax())\n",
    "\n",
    "print(f'A quantidade máxima de avistamentos por estados foi de {maxs_qtd} no estado {maxs_name}')"
   ]
  },
  {
   "cell_type": "markdown",
   "metadata": {},
   "source": [
    "## Analisando a quantidade de avistamentos por cidades no estado com maior quantidade de avistamentos [CA]"
   ]
  },
  {
   "cell_type": "code",
   "execution_count": 20,
   "metadata": {},
   "outputs": [
    {
     "data": {
      "text/html": [
       "<div>\n",
       "<style scoped>\n",
       "    .dataframe tbody tr th:only-of-type {\n",
       "        vertical-align: middle;\n",
       "    }\n",
       "\n",
       "    .dataframe tbody tr th {\n",
       "        vertical-align: top;\n",
       "    }\n",
       "\n",
       "    .dataframe thead th {\n",
       "        text-align: right;\n",
       "    }\n",
       "</style>\n",
       "<table border=\"1\" class=\"dataframe\">\n",
       "  <thead>\n",
       "    <tr style=\"text-align: right;\">\n",
       "      <th></th>\n",
       "      <th>qtd_avistamento_por_city</th>\n",
       "    </tr>\n",
       "    <tr>\n",
       "      <th>city</th>\n",
       "      <th></th>\n",
       "    </tr>\n",
       "  </thead>\n",
       "  <tbody>\n",
       "    <tr>\n",
       "      <th>acampo</th>\n",
       "      <td>1</td>\n",
       "    </tr>\n",
       "    <tr>\n",
       "      <th>acton</th>\n",
       "      <td>5</td>\n",
       "    </tr>\n",
       "    <tr>\n",
       "      <th>acton (approx.)</th>\n",
       "      <td>1</td>\n",
       "    </tr>\n",
       "    <tr>\n",
       "      <th>adelanto</th>\n",
       "      <td>5</td>\n",
       "    </tr>\n",
       "    <tr>\n",
       "      <th>agoura hills</th>\n",
       "      <td>6</td>\n",
       "    </tr>\n",
       "  </tbody>\n",
       "</table>\n",
       "</div>"
      ],
      "text/plain": [
       "                 qtd_avistamento_por_city\n",
       "city                                     \n",
       "acampo                                  1\n",
       "acton                                   5\n",
       "acton (approx.)                         1\n",
       "adelanto                                5\n",
       "agoura hills                            6"
      ]
     },
     "execution_count": 20,
     "metadata": {},
     "output_type": "execute_result"
    }
   ],
   "source": [
    "# definindo qual cidade da CA tem a maior quantidade de reports de avistamento \n",
    "\n",
    "df_ci = df.loc[(df['country'] == maxc_name[0]) & (df['state'] == maxs_name[0])]\n",
    "df_ci = df_ci.groupby(['city'])['city'].count().to_frame()\n",
    "df_ci = df_ci.rename(columns={'city': 'qtd_avistamento_por_city'})\n",
    "df_ci.head()"
   ]
  },
  {
   "cell_type": "code",
   "execution_count": 21,
   "metadata": {},
   "outputs": [
    {
     "name": "stdout",
     "output_type": "stream",
     "text": [
      "A quantidade máxima de avistamentos por cidades foi de [366] na cidade ['los angeles']\n"
     ]
    }
   ],
   "source": [
    "maxci_qtd = list(df_ci.max())\n",
    "maxci_name = list(df_ci.idxmax())\n",
    "\n",
    "print(f'A quantidade máxima de avistamentos por cidades foi de {maxci_qtd} na cidade {maxci_name}')"
   ]
  },
  {
   "cell_type": "markdown",
   "metadata": {},
   "source": [
    "## Limitando o dataframe para a cidade com maior quantidade de avistamentos [LA]"
   ]
  },
  {
   "cell_type": "code",
   "execution_count": 22,
   "metadata": {},
   "outputs": [
    {
     "data": {
      "text/html": [
       "<div>\n",
       "<style scoped>\n",
       "    .dataframe tbody tr th:only-of-type {\n",
       "        vertical-align: middle;\n",
       "    }\n",
       "\n",
       "    .dataframe tbody tr th {\n",
       "        vertical-align: top;\n",
       "    }\n",
       "\n",
       "    .dataframe thead th {\n",
       "        text-align: right;\n",
       "    }\n",
       "</style>\n",
       "<table border=\"1\" class=\"dataframe\">\n",
       "  <thead>\n",
       "    <tr style=\"text-align: right;\">\n",
       "      <th></th>\n",
       "      <th>city</th>\n",
       "      <th>state</th>\n",
       "      <th>country</th>\n",
       "      <th>shape</th>\n",
       "      <th>duration_m</th>\n",
       "      <th>comments</th>\n",
       "      <th>latitude</th>\n",
       "      <th>longitude</th>\n",
       "      <th>date</th>\n",
       "    </tr>\n",
       "  </thead>\n",
       "  <tbody>\n",
       "    <tr>\n",
       "      <th>120</th>\n",
       "      <td>los angeles</td>\n",
       "      <td>ca</td>\n",
       "      <td>us</td>\n",
       "      <td>oval</td>\n",
       "      <td>0.166667</td>\n",
       "      <td>Egg UFO over Hollywood Hills and LAX in LOS AN...</td>\n",
       "      <td>34.052222</td>\n",
       "      <td>-118.242778</td>\n",
       "      <td>2005-10-10</td>\n",
       "    </tr>\n",
       "    <tr>\n",
       "      <th>271</th>\n",
       "      <td>los angeles</td>\n",
       "      <td>ca</td>\n",
       "      <td>us</td>\n",
       "      <td>light</td>\n",
       "      <td>5.000000</td>\n",
       "      <td>It was a large bright light sitting stationary...</td>\n",
       "      <td>34.052222</td>\n",
       "      <td>-118.242778</td>\n",
       "      <td>1999-10-11</td>\n",
       "    </tr>\n",
       "    <tr>\n",
       "      <th>308</th>\n",
       "      <td>los angeles</td>\n",
       "      <td>ca</td>\n",
       "      <td>us</td>\n",
       "      <td>rectangle</td>\n",
       "      <td>0.333333</td>\n",
       "      <td>Large&amp;#44 rectangular&amp;#44 pale green-blue obje...</td>\n",
       "      <td>34.052222</td>\n",
       "      <td>-118.242778</td>\n",
       "      <td>2004-10-11</td>\n",
       "    </tr>\n",
       "    <tr>\n",
       "      <th>356</th>\n",
       "      <td>los angeles</td>\n",
       "      <td>ca</td>\n",
       "      <td>us</td>\n",
       "      <td>triangle</td>\n",
       "      <td>0.500000</td>\n",
       "      <td>Large Triangle sighted over L.A</td>\n",
       "      <td>34.052222</td>\n",
       "      <td>-118.242778</td>\n",
       "      <td>2008-10-11</td>\n",
       "    </tr>\n",
       "    <tr>\n",
       "      <th>697</th>\n",
       "      <td>los angeles</td>\n",
       "      <td>ca</td>\n",
       "      <td>us</td>\n",
       "      <td>formation</td>\n",
       "      <td>25.000000</td>\n",
       "      <td>4 UFOs in a big arrowlike formation at high al...</td>\n",
       "      <td>34.052222</td>\n",
       "      <td>-118.242778</td>\n",
       "      <td>2005-10-01</td>\n",
       "    </tr>\n",
       "    <tr>\n",
       "      <th>...</th>\n",
       "      <td>...</td>\n",
       "      <td>...</td>\n",
       "      <td>...</td>\n",
       "      <td>...</td>\n",
       "      <td>...</td>\n",
       "      <td>...</td>\n",
       "      <td>...</td>\n",
       "      <td>...</td>\n",
       "      <td>...</td>\n",
       "    </tr>\n",
       "    <tr>\n",
       "      <th>69898</th>\n",
       "      <td>los angeles</td>\n",
       "      <td>ca</td>\n",
       "      <td>us</td>\n",
       "      <td>oval</td>\n",
       "      <td>15.000000</td>\n",
       "      <td>White oval object traveling overhead northeast...</td>\n",
       "      <td>34.052222</td>\n",
       "      <td>-118.242778</td>\n",
       "      <td>2012-09-30</td>\n",
       "    </tr>\n",
       "    <tr>\n",
       "      <th>70043</th>\n",
       "      <td>los angeles</td>\n",
       "      <td>ca</td>\n",
       "      <td>us</td>\n",
       "      <td>oval</td>\n",
       "      <td>0.083333</td>\n",
       "      <td>UFO with intense lights seen over LA on Sept. ...</td>\n",
       "      <td>34.052222</td>\n",
       "      <td>-118.242778</td>\n",
       "      <td>2009-09-03</td>\n",
       "    </tr>\n",
       "    <tr>\n",
       "      <th>70743</th>\n",
       "      <td>los angeles</td>\n",
       "      <td>ca</td>\n",
       "      <td>us</td>\n",
       "      <td>light</td>\n",
       "      <td>2.000000</td>\n",
       "      <td>Orange light climbs 3 minutes straight up into...</td>\n",
       "      <td>34.052222</td>\n",
       "      <td>-118.242778</td>\n",
       "      <td>2005-09-07</td>\n",
       "    </tr>\n",
       "    <tr>\n",
       "      <th>70955</th>\n",
       "      <td>los angeles</td>\n",
       "      <td>ca</td>\n",
       "      <td>us</td>\n",
       "      <td>light</td>\n",
       "      <td>0.500000</td>\n",
       "      <td>Two steady&amp;#44 white lights heading northeast ...</td>\n",
       "      <td>34.052222</td>\n",
       "      <td>-118.242778</td>\n",
       "      <td>2009-09-08</td>\n",
       "    </tr>\n",
       "    <tr>\n",
       "      <th>71115</th>\n",
       "      <td>los angeles</td>\n",
       "      <td>ca</td>\n",
       "      <td>us</td>\n",
       "      <td>changing</td>\n",
       "      <td>7.000000</td>\n",
       "      <td>it was a very interesting object.</td>\n",
       "      <td>34.052222</td>\n",
       "      <td>-118.242778</td>\n",
       "      <td>2003-09-09</td>\n",
       "    </tr>\n",
       "  </tbody>\n",
       "</table>\n",
       "<p>366 rows × 9 columns</p>\n",
       "</div>"
      ],
      "text/plain": [
       "              city state country      shape  duration_m  \\\n",
       "120    los angeles    ca      us       oval    0.166667   \n",
       "271    los angeles    ca      us      light    5.000000   \n",
       "308    los angeles    ca      us  rectangle    0.333333   \n",
       "356    los angeles    ca      us   triangle    0.500000   \n",
       "697    los angeles    ca      us  formation   25.000000   \n",
       "...            ...   ...     ...        ...         ...   \n",
       "69898  los angeles    ca      us       oval   15.000000   \n",
       "70043  los angeles    ca      us       oval    0.083333   \n",
       "70743  los angeles    ca      us      light    2.000000   \n",
       "70955  los angeles    ca      us      light    0.500000   \n",
       "71115  los angeles    ca      us   changing    7.000000   \n",
       "\n",
       "                                                comments   latitude  \\\n",
       "120    Egg UFO over Hollywood Hills and LAX in LOS AN...  34.052222   \n",
       "271    It was a large bright light sitting stationary...  34.052222   \n",
       "308    Large&#44 rectangular&#44 pale green-blue obje...  34.052222   \n",
       "356                      Large Triangle sighted over L.A  34.052222   \n",
       "697    4 UFOs in a big arrowlike formation at high al...  34.052222   \n",
       "...                                                  ...        ...   \n",
       "69898  White oval object traveling overhead northeast...  34.052222   \n",
       "70043  UFO with intense lights seen over LA on Sept. ...  34.052222   \n",
       "70743  Orange light climbs 3 minutes straight up into...  34.052222   \n",
       "70955  Two steady&#44 white lights heading northeast ...  34.052222   \n",
       "71115                  it was a very interesting object.  34.052222   \n",
       "\n",
       "        longitude       date  \n",
       "120   -118.242778 2005-10-10  \n",
       "271   -118.242778 1999-10-11  \n",
       "308   -118.242778 2004-10-11  \n",
       "356   -118.242778 2008-10-11  \n",
       "697   -118.242778 2005-10-01  \n",
       "...           ...        ...  \n",
       "69898 -118.242778 2012-09-30  \n",
       "70043 -118.242778 2009-09-03  \n",
       "70743 -118.242778 2005-09-07  \n",
       "70955 -118.242778 2009-09-08  \n",
       "71115 -118.242778 2003-09-09  \n",
       "\n",
       "[366 rows x 9 columns]"
      ]
     },
     "execution_count": 22,
     "metadata": {},
     "output_type": "execute_result"
    }
   ],
   "source": [
    "# limitando o DF para US - Califórnia - Los Angeles\n",
    "\n",
    "df_max = df.loc[(df['country'] == maxc_name[0]) & (df['state'] == maxs_name[0]) & (df['city'] == maxci_name[0])]\n",
    "df_max"
   ]
  },
  {
   "cell_type": "markdown",
   "metadata": {},
   "source": [
    "## Analisando a quantidade de avistamentos em LA"
   ]
  },
  {
   "cell_type": "markdown",
   "metadata": {},
   "source": [
    "### Por ano"
   ]
  },
  {
   "cell_type": "code",
   "execution_count": 23,
   "metadata": {},
   "outputs": [],
   "source": [
    "# agrupando o df por anos e contando os avistamentos\n",
    "\n",
    "df_year = df_max.groupby([df['date'].dt.year])['date'].count().to_frame()\n",
    "df_year = df_year.rename(columns={'date': 'qtd_avistamento_por_ano'})"
   ]
  },
  {
   "cell_type": "code",
   "execution_count": 24,
   "metadata": {},
   "outputs": [
    {
     "data": {
      "text/plain": [
       "Text(0, 0.5, 'QUANTIDADE')"
      ]
     },
     "execution_count": 24,
     "metadata": {},
     "output_type": "execute_result"
    },
    {
     "data": {
      "image/png": "[encoded data removed]",
      "text/plain": [
       "<Figure size 1080x288 with 1 Axes>"
      ]
     },
     "metadata": {
      "needs_background": "light"
     },
     "output_type": "display_data"
    }
   ],
   "source": [
    "fig = df_year.plot(title='UFOs - Quantidade de avistamentos por ano', rot=60, figsize=(15,4))\n",
    "fig.set_xlabel('ANO')\n",
    "fig.set_ylabel('QUANTIDADE')"
   ]
  },
  {
   "cell_type": "markdown",
   "metadata": {},
   "source": [
    "### A partir de 2000"
   ]
  },
  {
   "cell_type": "code",
   "execution_count": 25,
   "metadata": {},
   "outputs": [],
   "source": [
    "# limitando o df a partir do ano 2000, que possui maior quantidade de avistamentos\n",
    "\n",
    "df_2000 = df_max.loc[(df['date'].dt.year >= 2000)]"
   ]
  },
  {
   "cell_type": "code",
   "execution_count": 26,
   "metadata": {},
   "outputs": [
    {
     "data": {
      "text/html": [
       "<div>\n",
       "<style scoped>\n",
       "    .dataframe tbody tr th:only-of-type {\n",
       "        vertical-align: middle;\n",
       "    }\n",
       "\n",
       "    .dataframe tbody tr th {\n",
       "        vertical-align: top;\n",
       "    }\n",
       "\n",
       "    .dataframe thead th {\n",
       "        text-align: right;\n",
       "    }\n",
       "</style>\n",
       "<table border=\"1\" class=\"dataframe\">\n",
       "  <thead>\n",
       "    <tr style=\"text-align: right;\">\n",
       "      <th></th>\n",
       "      <th>qtd_avistamento_por_ano</th>\n",
       "    </tr>\n",
       "    <tr>\n",
       "      <th>date</th>\n",
       "      <th></th>\n",
       "    </tr>\n",
       "  </thead>\n",
       "  <tbody>\n",
       "    <tr>\n",
       "      <th>2000</th>\n",
       "      <td>20</td>\n",
       "    </tr>\n",
       "    <tr>\n",
       "      <th>2001</th>\n",
       "      <td>18</td>\n",
       "    </tr>\n",
       "    <tr>\n",
       "      <th>2002</th>\n",
       "      <td>16</td>\n",
       "    </tr>\n",
       "    <tr>\n",
       "      <th>2003</th>\n",
       "      <td>26</td>\n",
       "    </tr>\n",
       "    <tr>\n",
       "      <th>2004</th>\n",
       "      <td>28</td>\n",
       "    </tr>\n",
       "  </tbody>\n",
       "</table>\n",
       "</div>"
      ],
      "text/plain": [
       "      qtd_avistamento_por_ano\n",
       "date                         \n",
       "2000                       20\n",
       "2001                       18\n",
       "2002                       16\n",
       "2003                       26\n",
       "2004                       28"
      ]
     },
     "execution_count": 26,
     "metadata": {},
     "output_type": "execute_result"
    }
   ],
   "source": [
    "# agrupando o df por anos a partir de 2000 e contando os avistamentos\n",
    "\n",
    "df_2000 = df_2000.groupby([df['date'].dt.year])['date'].count().to_frame()\n",
    "df_2000 = df_2000.rename(columns={'date': 'qtd_avistamento_por_ano'})\n",
    "df_2000.head()"
   ]
  },
  {
   "cell_type": "code",
   "execution_count": 27,
   "metadata": {},
   "outputs": [
    {
     "data": {
      "text/plain": [
       "Text(0, 0.5, 'QUANTIDADE')"
      ]
     },
     "execution_count": 27,
     "metadata": {},
     "output_type": "execute_result"
    },
    {
     "data": {
      "image/png": "[encoded data removed]",
      "text/plain": [
       "<Figure size 1080x288 with 1 Axes>"
      ]
     },
     "metadata": {
      "needs_background": "light"
     },
     "output_type": "display_data"
    }
   ],
   "source": [
    "fig = df_2000.plot(title='UFOs - Quantidade de avistamentos a partir de 2000', rot=60, figsize=(15,4))\n",
    "fig.set_xlabel('DATA')\n",
    "fig.set_ylabel('QUANTIDADE')"
   ]
  },
  {
   "cell_type": "markdown",
   "metadata": {},
   "source": [
    "# Analisando o formato dos avistamentos em LA"
   ]
  },
  {
   "cell_type": "code",
   "execution_count": 28,
   "metadata": {},
   "outputs": [
    {
     "data": {
      "text/html": [
       "<div>\n",
       "<style scoped>\n",
       "    .dataframe tbody tr th:only-of-type {\n",
       "        vertical-align: middle;\n",
       "    }\n",
       "\n",
       "    .dataframe tbody tr th {\n",
       "        vertical-align: top;\n",
       "    }\n",
       "\n",
       "    .dataframe thead th {\n",
       "        text-align: right;\n",
       "    }\n",
       "</style>\n",
       "<table border=\"1\" class=\"dataframe\">\n",
       "  <thead>\n",
       "    <tr style=\"text-align: right;\">\n",
       "      <th></th>\n",
       "      <th>shape</th>\n",
       "    </tr>\n",
       "  </thead>\n",
       "  <tbody>\n",
       "    <tr>\n",
       "      <th>120</th>\n",
       "      <td>oval</td>\n",
       "    </tr>\n",
       "    <tr>\n",
       "      <th>271</th>\n",
       "      <td>light</td>\n",
       "    </tr>\n",
       "    <tr>\n",
       "      <th>308</th>\n",
       "      <td>rectangle</td>\n",
       "    </tr>\n",
       "    <tr>\n",
       "      <th>356</th>\n",
       "      <td>triangle</td>\n",
       "    </tr>\n",
       "    <tr>\n",
       "      <th>697</th>\n",
       "      <td>formation</td>\n",
       "    </tr>\n",
       "    <tr>\n",
       "      <th>...</th>\n",
       "      <td>...</td>\n",
       "    </tr>\n",
       "    <tr>\n",
       "      <th>69898</th>\n",
       "      <td>oval</td>\n",
       "    </tr>\n",
       "    <tr>\n",
       "      <th>70043</th>\n",
       "      <td>oval</td>\n",
       "    </tr>\n",
       "    <tr>\n",
       "      <th>70743</th>\n",
       "      <td>light</td>\n",
       "    </tr>\n",
       "    <tr>\n",
       "      <th>70955</th>\n",
       "      <td>light</td>\n",
       "    </tr>\n",
       "    <tr>\n",
       "      <th>71115</th>\n",
       "      <td>changing</td>\n",
       "    </tr>\n",
       "  </tbody>\n",
       "</table>\n",
       "<p>366 rows × 1 columns</p>\n",
       "</div>"
      ],
      "text/plain": [
       "           shape\n",
       "120         oval\n",
       "271        light\n",
       "308    rectangle\n",
       "356     triangle\n",
       "697    formation\n",
       "...          ...\n",
       "69898       oval\n",
       "70043       oval\n",
       "70743      light\n",
       "70955      light\n",
       "71115   changing\n",
       "\n",
       "[366 rows x 1 columns]"
      ]
     },
     "execution_count": 28,
     "metadata": {},
     "output_type": "execute_result"
    }
   ],
   "source": [
    "df_shapes = df_max[['shape']]\n",
    "df_shapes"
   ]
  },
  {
   "cell_type": "code",
   "execution_count": 29,
   "metadata": {},
   "outputs": [
    {
     "data": {
      "text/plain": [
       "shape    \n",
       "light        66\n",
       "unknown      49\n",
       "circle       40\n",
       "triangle     32\n",
       "disk         31\n",
       "fireball     29\n",
       "sphere       25\n",
       "oval         22\n",
       "cigar        17\n",
       "changing     15\n",
       "formation    11\n",
       "chevron       6\n",
       "flash         5\n",
       "rectangle     5\n",
       "diamond       4\n",
       "cone          4\n",
       "teardrop      4\n",
       "cylinder      1\n",
       "dtype: int64"
      ]
     },
     "execution_count": 29,
     "metadata": {},
     "output_type": "execute_result"
    }
   ],
   "source": [
    "# contando a quantidade de formatos avistados\n",
    "shapes = df_shapes.value_counts()\n",
    "shapes"
   ]
  },
  {
   "cell_type": "code",
   "execution_count": 30,
   "metadata": {},
   "outputs": [
    {
     "data": {
      "text/plain": [
       "shape    \n",
       "light        18.032787\n",
       "unknown      13.387978\n",
       "circle       10.928962\n",
       "triangle      8.743169\n",
       "disk          8.469945\n",
       "fireball      7.923497\n",
       "sphere        6.830601\n",
       "oval          6.010929\n",
       "cigar         4.644809\n",
       "changing      4.098361\n",
       "formation     3.005464\n",
       "chevron       1.639344\n",
       "flash         1.366120\n",
       "rectangle     1.366120\n",
       "diamond       1.092896\n",
       "cone          1.092896\n",
       "teardrop      1.092896\n",
       "cylinder      0.273224\n",
       "dtype: float64"
      ]
     },
     "execution_count": 30,
     "metadata": {},
     "output_type": "execute_result"
    }
   ],
   "source": [
    "# transformando a contagem em porcentagem\n",
    "\n",
    "shapes_pct = ((shapes/len(df_shapes))*100)\n",
    "shapes_pct"
   ]
  },
  {
   "cell_type": "code",
   "execution_count": 31,
   "metadata": {},
   "outputs": [
    {
     "data": {
      "text/plain": [
       "Text(0, 0.5, 'PORCENTAGEM DE AVISTAMENTOS')"
      ]
     },
     "execution_count": 31,
     "metadata": {},
     "output_type": "execute_result"
    },
    {
     "data": {
      "image/png": "[encoded data removed]",
      "text/plain": [
       "<Figure size 432x288 with 1 Axes>"
      ]
     },
     "metadata": {
      "needs_background": "light"
     },
     "output_type": "display_data"
    }
   ],
   "source": [
    "fig = shapes_pct.plot(kind='bar', title='UFOs Aparencia nos EUA')\n",
    "fig.set_xlabel('APARENCIA RELATADA')\n",
    "fig.set_ylabel('PORCENTAGEM DE AVISTAMENTOS')"
   ]
  },
  {
   "cell_type": "markdown",
   "metadata": {},
   "source": [
    "# Tempo médio de avistamento em LA"
   ]
  },
  {
   "cell_type": "code",
   "execution_count": 32,
   "metadata": {},
   "outputs": [
    {
     "data": {
      "text/html": [
       "<div>\n",
       "<style scoped>\n",
       "    .dataframe tbody tr th:only-of-type {\n",
       "        vertical-align: middle;\n",
       "    }\n",
       "\n",
       "    .dataframe tbody tr th {\n",
       "        vertical-align: top;\n",
       "    }\n",
       "\n",
       "    .dataframe thead th {\n",
       "        text-align: right;\n",
       "    }\n",
       "</style>\n",
       "<table border=\"1\" class=\"dataframe\">\n",
       "  <thead>\n",
       "    <tr style=\"text-align: right;\">\n",
       "      <th></th>\n",
       "      <th>duration_m</th>\n",
       "    </tr>\n",
       "  </thead>\n",
       "  <tbody>\n",
       "    <tr>\n",
       "      <th>120</th>\n",
       "      <td>0.166667</td>\n",
       "    </tr>\n",
       "    <tr>\n",
       "      <th>271</th>\n",
       "      <td>5.000000</td>\n",
       "    </tr>\n",
       "    <tr>\n",
       "      <th>308</th>\n",
       "      <td>0.333333</td>\n",
       "    </tr>\n",
       "    <tr>\n",
       "      <th>356</th>\n",
       "      <td>0.500000</td>\n",
       "    </tr>\n",
       "    <tr>\n",
       "      <th>697</th>\n",
       "      <td>25.000000</td>\n",
       "    </tr>\n",
       "  </tbody>\n",
       "</table>\n",
       "</div>"
      ],
      "text/plain": [
       "     duration_m\n",
       "120    0.166667\n",
       "271    5.000000\n",
       "308    0.333333\n",
       "356    0.500000\n",
       "697   25.000000"
      ]
     },
     "execution_count": 32,
     "metadata": {},
     "output_type": "execute_result"
    }
   ],
   "source": [
    "df_duration = df_max[['duration_m']]\n",
    "df_duration.head()"
   ]
  },
  {
   "cell_type": "code",
   "execution_count": 33,
   "metadata": {},
   "outputs": [
    {
     "data": {
      "text/plain": [
       "12.236338797814213"
      ]
     },
     "execution_count": 33,
     "metadata": {},
     "output_type": "execute_result"
    }
   ],
   "source": [
    "# calculando o tempo médio por avistamentos\n",
    "\n",
    "duration_mean = df_duration['duration_m'].mean()\n",
    "duration_mean"
   ]
  }
 ],
 "metadata": {
  "kernelspec": {
   "display_name": "Python 3",
   "language": "python",
   "name": "python3"
  },
  "language_info": {
   "codemirror_mode": {
    "name": "ipython",
    "version": 3
   },
   "file_extension": ".py",
   "mimetype": "text/x-python",
   "name": "python",
   "nbconvert_exporter": "python",
   "pygments_lexer": "ipython3",
   "version": "3.8.5"
  }
 },
 "nbformat": 4,
 "nbformat_minor": 4
}
