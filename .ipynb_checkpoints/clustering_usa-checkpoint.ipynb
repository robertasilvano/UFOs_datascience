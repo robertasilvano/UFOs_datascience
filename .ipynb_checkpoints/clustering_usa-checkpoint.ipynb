{
 "cells": [
  {
   "cell_type": "code",
   "execution_count": 269,
   "metadata": {},
   "outputs": [],
   "source": [
    "import pandas as pd\n",
    "import numpy as np\n",
    "from sklearn.cluster import KMeans\n",
    "import matplotlib.pyplot as plt\n",
    "import sklearn.metrics as metrics\n",
    "from sklearn.preprocessing import MinMaxScaler\n",
    "from geopy.geocoders import Nominatim\n",
    "from geopy.extra.rate_limiter import RateLimiter"
   ]
  },
  {
   "cell_type": "code",
   "execution_count": 270,
   "metadata": {},
   "outputs": [],
   "source": [
    "file_name = 'pre_processado_completo.csv'\n",
    "\n",
    "df = pd.read_csv(file_name, header=0, error_bad_lines=False, warn_bad_lines=False)"
   ]
  },
  {
   "cell_type": "code",
   "execution_count": 271,
   "metadata": {},
   "outputs": [
    {
     "data": {
      "text/html": [
       "<div>\n",
       "<style scoped>\n",
       "    .dataframe tbody tr th:only-of-type {\n",
       "        vertical-align: middle;\n",
       "    }\n",
       "\n",
       "    .dataframe tbody tr th {\n",
       "        vertical-align: top;\n",
       "    }\n",
       "\n",
       "    .dataframe thead th {\n",
       "        text-align: right;\n",
       "    }\n",
       "</style>\n",
       "<table border=\"1\" class=\"dataframe\">\n",
       "  <thead>\n",
       "    <tr style=\"text-align: right;\">\n",
       "      <th></th>\n",
       "      <th>city</th>\n",
       "      <th>state</th>\n",
       "      <th>country</th>\n",
       "      <th>shape</th>\n",
       "      <th>duration_m</th>\n",
       "      <th>comments</th>\n",
       "      <th>latitude</th>\n",
       "      <th>longitude</th>\n",
       "      <th>date</th>\n",
       "    </tr>\n",
       "  </thead>\n",
       "  <tbody>\n",
       "    <tr>\n",
       "      <th>0</th>\n",
       "      <td>san marcos</td>\n",
       "      <td>tx</td>\n",
       "      <td>us</td>\n",
       "      <td>cylinder</td>\n",
       "      <td>45.000000</td>\n",
       "      <td>This event took place in early fall around 1949-50. It occurred after a Boy Scout meeting in the Baptist Church. The...</td>\n",
       "      <td>29.883056</td>\n",
       "      <td>-97.941111</td>\n",
       "      <td>1949-10-10</td>\n",
       "    </tr>\n",
       "    <tr>\n",
       "      <th>1</th>\n",
       "      <td>lackland afb</td>\n",
       "      <td>tx</td>\n",
       "      <td>NaN</td>\n",
       "      <td>light</td>\n",
       "      <td>120.000000</td>\n",
       "      <td>1949 Lackland AFB&amp;#44 TX.  Lights racing across the sky &amp;amp; making 90 degree turns on a dime.</td>\n",
       "      <td>29.384210</td>\n",
       "      <td>-98.581082</td>\n",
       "      <td>1949-10-10</td>\n",
       "    </tr>\n",
       "    <tr>\n",
       "      <th>2</th>\n",
       "      <td>chester (uk/england)</td>\n",
       "      <td>NaN</td>\n",
       "      <td>gb</td>\n",
       "      <td>circle</td>\n",
       "      <td>0.333333</td>\n",
       "      <td>Green/Orange circular disc over Chester&amp;#44 England</td>\n",
       "      <td>53.200000</td>\n",
       "      <td>-2.916667</td>\n",
       "      <td>1955-10-10</td>\n",
       "    </tr>\n",
       "    <tr>\n",
       "      <th>3</th>\n",
       "      <td>edna</td>\n",
       "      <td>tx</td>\n",
       "      <td>us</td>\n",
       "      <td>circle</td>\n",
       "      <td>0.333333</td>\n",
       "      <td>My older brother and twin sister were leaving the only Edna theater at about 9 PM&amp;#44...we had our bikes and I took ...</td>\n",
       "      <td>28.978333</td>\n",
       "      <td>-96.645833</td>\n",
       "      <td>1956-10-10</td>\n",
       "    </tr>\n",
       "    <tr>\n",
       "      <th>4</th>\n",
       "      <td>kaneohe</td>\n",
       "      <td>hi</td>\n",
       "      <td>us</td>\n",
       "      <td>light</td>\n",
       "      <td>15.000000</td>\n",
       "      <td>AS a Marine 1st Lt. flying an FJ4B fighter/attack aircraft on a solo night exercise&amp;#44 I was at 50&amp;#44000&amp;#39 in a ...</td>\n",
       "      <td>21.418056</td>\n",
       "      <td>-157.803611</td>\n",
       "      <td>1960-10-10</td>\n",
       "    </tr>\n",
       "  </tbody>\n",
       "</table>\n",
       "</div>"
      ],
      "text/plain": [
       "                   city state country     shape  duration_m  \\\n",
       "0            san marcos    tx      us  cylinder   45.000000   \n",
       "1          lackland afb    tx     NaN     light  120.000000   \n",
       "2  chester (uk/england)   NaN      gb    circle    0.333333   \n",
       "3                  edna    tx      us    circle    0.333333   \n",
       "4               kaneohe    hi      us     light   15.000000   \n",
       "\n",
       "                                                                                                                  comments  \\\n",
       "0  This event took place in early fall around 1949-50. It occurred after a Boy Scout meeting in the Baptist Church. The...   \n",
       "1                          1949 Lackland AFB&#44 TX.  Lights racing across the sky &amp; making 90 degree turns on a dime.   \n",
       "2                                                                      Green/Orange circular disc over Chester&#44 England   \n",
       "3  My older brother and twin sister were leaving the only Edna theater at about 9 PM&#44...we had our bikes and I took ...   \n",
       "4  AS a Marine 1st Lt. flying an FJ4B fighter/attack aircraft on a solo night exercise&#44 I was at 50&#44000&#39 in a ...   \n",
       "\n",
       "    latitude   longitude        date  \n",
       "0  29.883056  -97.941111  1949-10-10  \n",
       "1  29.384210  -98.581082  1949-10-10  \n",
       "2  53.200000   -2.916667  1955-10-10  \n",
       "3  28.978333  -96.645833  1956-10-10  \n",
       "4  21.418056 -157.803611  1960-10-10  "
      ]
     },
     "execution_count": 271,
     "metadata": {},
     "output_type": "execute_result"
    }
   ],
   "source": [
    "df.head()"
   ]
  },
  {
   "cell_type": "code",
   "execution_count": 272,
   "metadata": {},
   "outputs": [
    {
     "data": {
      "text/html": [
       "<div>\n",
       "<style scoped>\n",
       "    .dataframe tbody tr th:only-of-type {\n",
       "        vertical-align: middle;\n",
       "    }\n",
       "\n",
       "    .dataframe tbody tr th {\n",
       "        vertical-align: top;\n",
       "    }\n",
       "\n",
       "    .dataframe thead th {\n",
       "        text-align: right;\n",
       "    }\n",
       "</style>\n",
       "<table border=\"1\" class=\"dataframe\">\n",
       "  <thead>\n",
       "    <tr style=\"text-align: right;\">\n",
       "      <th></th>\n",
       "      <th>city</th>\n",
       "      <th>state</th>\n",
       "      <th>country</th>\n",
       "      <th>shape</th>\n",
       "      <th>duration_m</th>\n",
       "      <th>comments</th>\n",
       "      <th>latitude</th>\n",
       "      <th>longitude</th>\n",
       "      <th>date</th>\n",
       "    </tr>\n",
       "  </thead>\n",
       "  <tbody>\n",
       "    <tr>\n",
       "      <th>0</th>\n",
       "      <td>san marcos</td>\n",
       "      <td>tx</td>\n",
       "      <td>us</td>\n",
       "      <td>cylinder</td>\n",
       "      <td>45.000000</td>\n",
       "      <td>This event took place in early fall around 1949-50. It occurred after a Boy Scout meeting in the Baptist Church. The...</td>\n",
       "      <td>29.883056</td>\n",
       "      <td>-97.941111</td>\n",
       "      <td>1949-10-10</td>\n",
       "    </tr>\n",
       "    <tr>\n",
       "      <th>3</th>\n",
       "      <td>edna</td>\n",
       "      <td>tx</td>\n",
       "      <td>us</td>\n",
       "      <td>circle</td>\n",
       "      <td>0.333333</td>\n",
       "      <td>My older brother and twin sister were leaving the only Edna theater at about 9 PM&amp;#44...we had our bikes and I took ...</td>\n",
       "      <td>28.978333</td>\n",
       "      <td>-96.645833</td>\n",
       "      <td>1956-10-10</td>\n",
       "    </tr>\n",
       "    <tr>\n",
       "      <th>4</th>\n",
       "      <td>kaneohe</td>\n",
       "      <td>hi</td>\n",
       "      <td>us</td>\n",
       "      <td>light</td>\n",
       "      <td>15.000000</td>\n",
       "      <td>AS a Marine 1st Lt. flying an FJ4B fighter/attack aircraft on a solo night exercise&amp;#44 I was at 50&amp;#44000&amp;#39 in a ...</td>\n",
       "      <td>21.418056</td>\n",
       "      <td>-157.803611</td>\n",
       "      <td>1960-10-10</td>\n",
       "    </tr>\n",
       "    <tr>\n",
       "      <th>5</th>\n",
       "      <td>bristol</td>\n",
       "      <td>tn</td>\n",
       "      <td>us</td>\n",
       "      <td>sphere</td>\n",
       "      <td>5.000000</td>\n",
       "      <td>My father is now 89 my brother 52 the girl with us now 51 myself 49 and the other fellow which worked with my father...</td>\n",
       "      <td>36.595000</td>\n",
       "      <td>-82.188889</td>\n",
       "      <td>1961-10-10</td>\n",
       "    </tr>\n",
       "    <tr>\n",
       "      <th>7</th>\n",
       "      <td>norwalk</td>\n",
       "      <td>ct</td>\n",
       "      <td>us</td>\n",
       "      <td>disk</td>\n",
       "      <td>20.000000</td>\n",
       "      <td>A bright orange color changing to reddish color disk/saucer was observed hovering above power transmission lines.</td>\n",
       "      <td>41.117500</td>\n",
       "      <td>-73.408333</td>\n",
       "      <td>1965-10-10</td>\n",
       "    </tr>\n",
       "  </tbody>\n",
       "</table>\n",
       "</div>"
      ],
      "text/plain": [
       "         city state country     shape  duration_m  \\\n",
       "0  san marcos    tx      us  cylinder   45.000000   \n",
       "3        edna    tx      us    circle    0.333333   \n",
       "4     kaneohe    hi      us     light   15.000000   \n",
       "5     bristol    tn      us    sphere    5.000000   \n",
       "7     norwalk    ct      us      disk   20.000000   \n",
       "\n",
       "                                                                                                                  comments  \\\n",
       "0  This event took place in early fall around 1949-50. It occurred after a Boy Scout meeting in the Baptist Church. The...   \n",
       "3  My older brother and twin sister were leaving the only Edna theater at about 9 PM&#44...we had our bikes and I took ...   \n",
       "4  AS a Marine 1st Lt. flying an FJ4B fighter/attack aircraft on a solo night exercise&#44 I was at 50&#44000&#39 in a ...   \n",
       "5  My father is now 89 my brother 52 the girl with us now 51 myself 49 and the other fellow which worked with my father...   \n",
       "7        A bright orange color changing to reddish color disk/saucer was observed hovering above power transmission lines.   \n",
       "\n",
       "    latitude   longitude        date  \n",
       "0  29.883056  -97.941111  1949-10-10  \n",
       "3  28.978333  -96.645833  1956-10-10  \n",
       "4  21.418056 -157.803611  1960-10-10  \n",
       "5  36.595000  -82.188889  1961-10-10  \n",
       "7  41.117500  -73.408333  1965-10-10  "
      ]
     },
     "execution_count": 272,
     "metadata": {},
     "output_type": "execute_result"
    }
   ],
   "source": [
    "# limita o df aos USA\n",
    "\n",
    "df_us = df.loc[df['country'] == 'us']\n",
    "df_us.head()"
   ]
  },
  {
   "cell_type": "code",
   "execution_count": 273,
   "metadata": {},
   "outputs": [
    {
     "name": "stdout",
     "output_type": "stream",
     "text": [
      "70290\n",
      "[[ -97.9411111   29.8830556]\n",
      " [ -96.6458333   28.9783333]\n",
      " [-157.8036111   21.4180556]\n",
      " ...\n",
      " [ -97.4777778   35.6527778]\n",
      " [ -82.6958333   34.3769444]\n",
      " [ -80.1436111   26.1219444]]\n"
     ]
    }
   ],
   "source": [
    "# define um array com as latitudes e longitudes\n",
    "\n",
    "lat_lon = np.array(df_us[['longitude', 'latitude']]).astype(float)\n",
    "print(len(lat_lon))\n",
    "print(lat_lon)"
   ]
  },
  {
   "cell_type": "code",
   "execution_count": 274,
   "metadata": {},
   "outputs": [],
   "source": [
    "# define uma lista com os estados, e calcula o peso de cada estado de acordo com a quantidade de avistamentos, pelo método count\n",
    "\n",
    "states = list(df_us['state'])\n",
    "pesos = [states.count(s) for s in states]"
   ]
  },
  {
   "cell_type": "code",
   "execution_count": 275,
   "metadata": {},
   "outputs": [],
   "source": [
    "scaler = MinMaxScaler()"
   ]
  },
  {
   "cell_type": "code",
   "execution_count": 276,
   "metadata": {},
   "outputs": [
    {
     "data": {
      "image/png": "[encoded data removed]",
      "text/plain": [
       "<Figure size 432x288 with 1 Axes>"
      ]
     },
     "metadata": {
      "needs_background": "light"
     },
     "output_type": "display_data"
    }
   ],
   "source": [
    "# aplica o elbow criteria\n",
    "\n",
    "sse = {}\n",
    "for k in range(2, 50):\n",
    "    kmeans = KMeans(n_clusters=k, max_iter=2000).fit(scaler.fit_transform(lat_lon), sample_weight=pesos)\n",
    "    sse[k] = kmeans.inertia_\n",
    "plt.figure()\n",
    "plt.plot(list(sse.keys()), list(sse.values()))\n",
    "plt.xlabel(\"Number of cluster\")\n",
    "plt.ylabel(\"SSE\")\n",
    "plt.show()"
   ]
  },
  {
   "cell_type": "markdown",
   "metadata": {},
   "source": [
    "### Visto que o range para o Elbow Criteria foi grande, o número adequado de clusters está entre 8 e 22\n",
    "#### A soma dos erros quadráticos não apresenta decaimento significante a partir desses valores, logo o gasto computacional para k_clusters maiores não se torna viável"
   ]
  },
  {
   "cell_type": "markdown",
   "metadata": {},
   "source": [
    "### Para definir o melhor valor nesse range, foi utilizado o Coeficiente de Silhouette\n",
    "#### quanto maior o coeficiente, menor a distância intracluster e maior a distância intercluster"
   ]
  },
  {
   "cell_type": "code",
   "execution_count": 278,
   "metadata": {},
   "outputs": [
    {
     "name": "stdout",
     "output_type": "stream",
     "text": [
      "Para n_clusters=8, o coeficiente de  Silhouette 0.4811351012519096\n",
      "Para n_clusters=9, o coeficiente de  Silhouette 0.494119152068234\n",
      "Para n_clusters=10, o coeficiente de  Silhouette 0.5095988600530452\n",
      "Para n_clusters=11, o coeficiente de  Silhouette 0.5150013163270807\n",
      "Para n_clusters=12, o coeficiente de  Silhouette 0.5263527779673158\n",
      "Para n_clusters=13, o coeficiente de  Silhouette 0.5040574833957269\n",
      "Para n_clusters=14, o coeficiente de  Silhouette 0.5033175636109475\n",
      "Para n_clusters=15, o coeficiente de  Silhouette 0.5056112608833657\n",
      "Para n_clusters=16, o coeficiente de  Silhouette 0.4846279146642523\n",
      "Para n_clusters=17, o coeficiente de  Silhouette 0.4683515649869899\n",
      "Para n_clusters=18, o coeficiente de  Silhouette 0.45649472673973696\n",
      "Para n_clusters=19, o coeficiente de  Silhouette 0.455467883435279\n",
      "Para n_clusters=20, o coeficiente de  Silhouette 0.46818191364354145\n",
      "Para n_clusters=21, o coeficiente de  Silhouette 0.4532441938788754\n"
     ]
    }
   ],
   "source": [
    "# aplica o coeficiente de silhouette\n",
    "\n",
    "for k in range(8, 22):\n",
    "    kmeans = KMeans(n_clusters=k, max_iter=2000).fit(scaler.fit_transform(lat_lon), sample_weight=pesos)\n",
    "    label = kmeans.labels_\n",
    "    sil_coeff = metrics.silhouette_score(scaler.fit_transform(lat_lon), label, metric='euclidean')\n",
    "    print(\"Para n_clusters={}, o coeficiente de  Silhouette {}\".format(k, sil_coeff))"
   ]
  },
  {
   "cell_type": "markdown",
   "metadata": {},
   "source": [
    "### De acordo com o Coeficiente de Silhouette o número adequado de clusters é em torno de 12"
   ]
  },
  {
   "cell_type": "code",
   "execution_count": 279,
   "metadata": {},
   "outputs": [
    {
     "data": {
      "text/plain": [
       "array([[0.71027257, 0.22622871],\n",
       "       [0.72196002, 0.20905126],\n",
       "       [0.17012595, 0.06550849],\n",
       "       ...,\n",
       "       [0.71445329, 0.3357752 ],\n",
       "       [0.84783257, 0.31155167],\n",
       "       [0.87086158, 0.1548186 ]])"
      ]
     },
     "execution_count": 279,
     "metadata": {},
     "output_type": "execute_result"
    }
   ],
   "source": [
    "# aplica o algoritmo kmeans, utilizando os pesos e normalizando os valores\n",
    "\n",
    "kmeans = KMeans(n_clusters=12, max_iter=2000)\n",
    "kmeans.fit(scaler.fit_transform(lat_lon), sample_weight=pesos)\n",
    "lat_lon_scaled = np.array(scaler.fit_transform(lat_lon))\n",
    "lat_lon_scaled"
   ]
  },
  {
   "cell_type": "code",
   "execution_count": 280,
   "metadata": {},
   "outputs": [
    {
     "data": {
      "text/plain": [
       "array([[0.17405701, 0.05880549],\n",
       "       [0.84867564, 0.43212812],\n",
       "       [0.49601567, 0.38389771],\n",
       "       [0.71630964, 0.24898256],\n",
       "       [0.49482115, 0.55302024],\n",
       "       [0.86160909, 0.32550794],\n",
       "       [0.63759115, 0.39706865],\n",
       "       [0.8562113 , 0.18896991],\n",
       "       [0.53644424, 0.30206383],\n",
       "       [0.9200891 , 0.44392307],\n",
       "       [0.79338783, 0.47029818],\n",
       "       [0.77223653, 0.37826261]])"
      ]
     },
     "execution_count": 280,
     "metadata": {},
     "output_type": "execute_result"
    }
   ],
   "source": [
    "centers = kmeans.cluster_centers_\n",
    "centers"
   ]
  },
  {
   "cell_type": "code",
   "execution_count": 281,
   "metadata": {},
   "outputs": [
    {
     "name": "stdout",
     "output_type": "stream",
     "text": [
      "70290\n"
     ]
    },
    {
     "data": {
      "text/plain": [
       "array([ 3.,  3.,  0., ..., 11.,  5.,  7.])"
      ]
     },
     "execution_count": 281,
     "metadata": {},
     "output_type": "execute_result"
    }
   ],
   "source": [
    "locations = kmeans.labels_.astype(float)\n",
    "print(len(locations))\n",
    "locations"
   ]
  },
  {
   "cell_type": "code",
   "execution_count": 282,
   "metadata": {},
   "outputs": [
    {
     "data": {
      "text/plain": [
       "Text(0, 0.5, 'Longitude')"
      ]
     },
     "execution_count": 282,
     "metadata": {},
     "output_type": "execute_result"
    },
    {
     "data": {
      "image/png": "[encoded data removed]",
      "text/plain": [
       "<Figure size 1080x720 with 1 Axes>"
      ]
     },
     "metadata": {
      "needs_background": "light"
     },
     "output_type": "display_data"
    }
   ],
   "source": [
    "fig , ax = plt.subplots(figsize=(15, 10))\n",
    "scatter = ax.scatter(lat_lon_scaled[:, 0], lat_lon_scaled[:, 1], c=pesos, cmap='rainbow')\n",
    "ax.scatter(centers[:, 0], centers[:, 1], c='black', s=100)\n",
    "fig.suptitle('Locais de avistamento nos EUA')\n",
    "plt.xlabel('Latitude')\n",
    "plt.ylabel('Longitude')"
   ]
  },
  {
   "cell_type": "code",
   "execution_count": 283,
   "metadata": {},
   "outputs": [],
   "source": [
    "geolocator = Nominatim(user_agent=\"geoapiExercises\")\n",
    "geocode = RateLimiter(geolocator.geocode, min_delay_seconds=1)\n",
    "reverse = RateLimiter(geolocator.reverse, min_delay_seconds=1)"
   ]
  },
  {
   "cell_type": "code",
   "execution_count": 284,
   "metadata": {},
   "outputs": [],
   "source": [
    "centers_notscaled = scaler.inverse_transform(centers)\n",
    "df_centers = pd.DataFrame(centers_notscaled)\n",
    "\n",
    "for index, row in df_centers.iterrows():\n",
    "    df_centers.at[index, 'location'] = str(row[1]) + ', ' + str(row[0])\n",
    "\n",
    "df_centers.drop(0, axis=1, inplace=True)\n",
    "df_centers.drop(1, axis=1, inplace=True)"
   ]
  },
  {
   "cell_type": "code",
   "execution_count": 285,
   "metadata": {},
   "outputs": [],
   "source": [
    "df_centers['address'] = df_centers['location'].apply(lambda loc: reverse(loc) if loc else None)"
   ]
  },
  {
   "cell_type": "code",
   "execution_count": 286,
   "metadata": {},
   "outputs": [
    {
     "data": {
      "text/html": [
       "<div>\n",
       "<style scoped>\n",
       "    .dataframe tbody tr th:only-of-type {\n",
       "        vertical-align: middle;\n",
       "    }\n",
       "\n",
       "    .dataframe tbody tr th {\n",
       "        vertical-align: top;\n",
       "    }\n",
       "\n",
       "    .dataframe thead th {\n",
       "        text-align: right;\n",
       "    }\n",
       "</style>\n",
       "<table border=\"1\" class=\"dataframe\">\n",
       "  <thead>\n",
       "    <tr style=\"text-align: right;\">\n",
       "      <th></th>\n",
       "      <th>location</th>\n",
       "      <th>address</th>\n",
       "    </tr>\n",
       "  </thead>\n",
       "  <tbody>\n",
       "    <tr>\n",
       "      <th>0</th>\n",
       "      <td>21.065014078260866, -157.367945842029</td>\n",
       "      <td>(United States, (39.7837304, -100.4458825))</td>\n",
       "    </tr>\n",
       "    <tr>\n",
       "      <th>1</th>\n",
       "      <td>40.72760576751391, -82.60239876885596</td>\n",
       "      <td>(Sheirer Road, Troy Township, Richland County, Ohio, 44903, United States, (40.72750240724322, -82.60358538223619))</td>\n",
       "    </tr>\n",
       "    <tr>\n",
       "      <th>2</th>\n",
       "      <td>38.18735030751319, -121.68642958271518</td>\n",
       "      <td>(Newtown, Rio Vista, Solano County, California, 94571, United States, (38.185546, -121.683133))</td>\n",
       "    </tr>\n",
       "    <tr>\n",
       "      <th>3</th>\n",
       "      <td>31.081481966433195, -97.2720448593201</td>\n",
       "      <td>(6100, Little Flock Road, Bell County, Texas, 76501, United States, (31.080590175798, -97.27192952396767))</td>\n",
       "    </tr>\n",
       "    <tr>\n",
       "      <th>4</th>\n",
       "      <td>47.09489270346176, -121.81881482302522</td>\n",
       "      <td>(Pierce County, Washington, United States, (47.0022547, -122.2117983))</td>\n",
       "    </tr>\n",
       "    <tr>\n",
       "      <th>5</th>\n",
       "      <td>35.11200984424432, -81.16903164510921</td>\n",
       "      <td>(2086, State Highway 557, York County, South Carolina, 29710, United States, (35.1115151, -81.1688204))</td>\n",
       "    </tr>\n",
       "    <tr>\n",
       "      <th>6</th>\n",
       "      <td>38.88105282720767, -105.99613095584859</td>\n",
       "      <td>(Lenhardy Cutoff, Chaffee County, Colorado, United States, (38.88119135112094, -105.99692527651533))</td>\n",
       "    </tr>\n",
       "    <tr>\n",
       "      <th>7</th>\n",
       "      <td>27.920665714688855, -81.76724960561397</td>\n",
       "      <td>(Polk State College - Clear Springs Advanced Technology Center, 310, Technology Drive, Clear Springs Corporate Park,...</td>\n",
       "    </tr>\n",
       "    <tr>\n",
       "      <th>8</th>\n",
       "      <td>33.87722778114206, -117.20587807848636</td>\n",
       "      <td>(16834, Fox Trot Lane, Moreno Valley, California, 92555, United States, (33.87699019179903, -117.20672474095082))</td>\n",
       "    </tr>\n",
       "    <tr>\n",
       "      <th>9</th>\n",
       "      <td>41.348835857314505, -74.68790370916554</td>\n",
       "      <td>(Pilot - Montague, NJ 23, Duttonville, Sussex County, New Jersey, 07827, United States, (41.3495593, -74.68706575097...</td>\n",
       "    </tr>\n",
       "    <tr>\n",
       "      <th>10</th>\n",
       "      <td>42.737991249289145, -88.72974739514835</td>\n",
       "      <td>(Territorial Road, Town of Richmond, Walworth County, Wisconsin, 53115, United States, (42.74025977718378, -88.72976...</td>\n",
       "    </tr>\n",
       "    <tr>\n",
       "      <th>11</th>\n",
       "      <td>37.890553974728704, -91.07386989119995</td>\n",
       "      <td>(Hanson Farm Road, Washington County, Missouri, United States, (37.890211, -91.078085))</td>\n",
       "    </tr>\n",
       "  </tbody>\n",
       "</table>\n",
       "</div>"
      ],
      "text/plain": [
       "                                  location  \\\n",
       "0    21.065014078260866, -157.367945842029   \n",
       "1    40.72760576751391, -82.60239876885596   \n",
       "2   38.18735030751319, -121.68642958271518   \n",
       "3    31.081481966433195, -97.2720448593201   \n",
       "4   47.09489270346176, -121.81881482302522   \n",
       "5    35.11200984424432, -81.16903164510921   \n",
       "6   38.88105282720767, -105.99613095584859   \n",
       "7   27.920665714688855, -81.76724960561397   \n",
       "8   33.87722778114206, -117.20587807848636   \n",
       "9   41.348835857314505, -74.68790370916554   \n",
       "10  42.737991249289145, -88.72974739514835   \n",
       "11  37.890553974728704, -91.07386989119995   \n",
       "\n",
       "                                                                                                                    address  \n",
       "0                                                                               (United States, (39.7837304, -100.4458825))  \n",
       "1       (Sheirer Road, Troy Township, Richland County, Ohio, 44903, United States, (40.72750240724322, -82.60358538223619))  \n",
       "2                           (Newtown, Rio Vista, Solano County, California, 94571, United States, (38.185546, -121.683133))  \n",
       "3                (6100, Little Flock Road, Bell County, Texas, 76501, United States, (31.080590175798, -97.27192952396767))  \n",
       "4                                                    (Pierce County, Washington, United States, (47.0022547, -122.2117983))  \n",
       "5                   (2086, State Highway 557, York County, South Carolina, 29710, United States, (35.1115151, -81.1688204))  \n",
       "6                      (Lenhardy Cutoff, Chaffee County, Colorado, United States, (38.88119135112094, -105.99692527651533))  \n",
       "7   (Polk State College - Clear Springs Advanced Technology Center, 310, Technology Drive, Clear Springs Corporate Park,...  \n",
       "8         (16834, Fox Trot Lane, Moreno Valley, California, 92555, United States, (33.87699019179903, -117.20672474095082))  \n",
       "9   (Pilot - Montague, NJ 23, Duttonville, Sussex County, New Jersey, 07827, United States, (41.3495593, -74.68706575097...  \n",
       "10  (Territorial Road, Town of Richmond, Walworth County, Wisconsin, 53115, United States, (42.74025977718378, -88.72976...  \n",
       "11                                  (Hanson Farm Road, Washington County, Missouri, United States, (37.890211, -91.078085))  "
      ]
     },
     "execution_count": 286,
     "metadata": {},
     "output_type": "execute_result"
    }
   ],
   "source": [
    "pd.set_option(\"max_colwidth\", 120)\n",
    "df_centers"
   ]
  },
  {
   "cell_type": "code",
   "execution_count": 287,
   "metadata": {},
   "outputs": [
    {
     "data": {
      "text/html": [
       "<div>\n",
       "<style scoped>\n",
       "    .dataframe tbody tr th:only-of-type {\n",
       "        vertical-align: middle;\n",
       "    }\n",
       "\n",
       "    .dataframe tbody tr th {\n",
       "        vertical-align: top;\n",
       "    }\n",
       "\n",
       "    .dataframe thead th {\n",
       "        text-align: right;\n",
       "    }\n",
       "</style>\n",
       "<table border=\"1\" class=\"dataframe\">\n",
       "  <thead>\n",
       "    <tr style=\"text-align: right;\">\n",
       "      <th></th>\n",
       "      <th>state</th>\n",
       "      <th>count</th>\n",
       "    </tr>\n",
       "  </thead>\n",
       "  <tbody>\n",
       "    <tr>\n",
       "      <th>0</th>\n",
       "      <td>ca</td>\n",
       "      <td>9574</td>\n",
       "    </tr>\n",
       "    <tr>\n",
       "      <th>1</th>\n",
       "      <td>wa</td>\n",
       "      <td>4292</td>\n",
       "    </tr>\n",
       "    <tr>\n",
       "      <th>2</th>\n",
       "      <td>fl</td>\n",
       "      <td>4155</td>\n",
       "    </tr>\n",
       "    <tr>\n",
       "      <th>3</th>\n",
       "      <td>tx</td>\n",
       "      <td>3742</td>\n",
       "    </tr>\n",
       "    <tr>\n",
       "      <th>4</th>\n",
       "      <td>ny</td>\n",
       "      <td>3234</td>\n",
       "    </tr>\n",
       "    <tr>\n",
       "      <th>5</th>\n",
       "      <td>il</td>\n",
       "      <td>2698</td>\n",
       "    </tr>\n",
       "    <tr>\n",
       "      <th>6</th>\n",
       "      <td>az</td>\n",
       "      <td>2616</td>\n",
       "    </tr>\n",
       "    <tr>\n",
       "      <th>7</th>\n",
       "      <td>pa</td>\n",
       "      <td>2520</td>\n",
       "    </tr>\n",
       "    <tr>\n",
       "      <th>8</th>\n",
       "      <td>oh</td>\n",
       "      <td>2464</td>\n",
       "    </tr>\n",
       "    <tr>\n",
       "      <th>9</th>\n",
       "      <td>mi</td>\n",
       "      <td>1980</td>\n",
       "    </tr>\n",
       "    <tr>\n",
       "      <th>10</th>\n",
       "      <td>or</td>\n",
       "      <td>1882</td>\n",
       "    </tr>\n",
       "    <tr>\n",
       "      <th>11</th>\n",
       "      <td>nc</td>\n",
       "      <td>1863</td>\n",
       "    </tr>\n",
       "    <tr>\n",
       "      <th>12</th>\n",
       "      <td>mo</td>\n",
       "      <td>1569</td>\n",
       "    </tr>\n",
       "    <tr>\n",
       "      <th>13</th>\n",
       "      <td>co</td>\n",
       "      <td>1521</td>\n",
       "    </tr>\n",
       "    <tr>\n",
       "      <th>14</th>\n",
       "      <td>in</td>\n",
       "      <td>1404</td>\n",
       "    </tr>\n",
       "  </tbody>\n",
       "</table>\n",
       "</div>"
      ],
      "text/plain": [
       "   state  count\n",
       "0     ca   9574\n",
       "1     wa   4292\n",
       "2     fl   4155\n",
       "3     tx   3742\n",
       "4     ny   3234\n",
       "5     il   2698\n",
       "6     az   2616\n",
       "7     pa   2520\n",
       "8     oh   2464\n",
       "9     mi   1980\n",
       "10    or   1882\n",
       "11    nc   1863\n",
       "12    mo   1569\n",
       "13    co   1521\n",
       "14    in   1404"
      ]
     },
     "execution_count": 287,
     "metadata": {},
     "output_type": "execute_result"
    }
   ],
   "source": [
    "df_s = df_us['state'].value_counts().rename_axis('state').reset_index(name='count')\n",
    "df_s.head(15)"
   ]
  }
 ],
 "metadata": {
  "kernelspec": {
   "display_name": "Python 3",
   "language": "python",
   "name": "python3"
  },
  "language_info": {
   "codemirror_mode": {
    "name": "ipython",
    "version": 3
   },
   "file_extension": ".py",
   "mimetype": "text/x-python",
   "name": "python",
   "nbconvert_exporter": "python",
   "pygments_lexer": "ipython3",
   "version": "3.8.5"
  }
 },
 "nbformat": 4,
 "nbformat_minor": 4
}
