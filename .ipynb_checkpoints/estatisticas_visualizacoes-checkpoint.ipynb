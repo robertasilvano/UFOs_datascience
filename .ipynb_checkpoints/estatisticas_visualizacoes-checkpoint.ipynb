{
 "cells": [
  {
   "cell_type": "markdown",
   "metadata": {},
   "source": [
    "# Estatisticas e visualizações"
   ]
  },
  {
   "cell_type": "code",
   "execution_count": 90,
   "metadata": {},
   "outputs": [],
   "source": [
    "import pandas as pd\n",
    "import numpy as np"
   ]
  },
  {
   "cell_type": "code",
   "execution_count": 137,
   "metadata": {},
   "outputs": [
    {
     "data": {
      "text/html": [
       "<div>\n",
       "<style scoped>\n",
       "    .dataframe tbody tr th:only-of-type {\n",
       "        vertical-align: middle;\n",
       "    }\n",
       "\n",
       "    .dataframe tbody tr th {\n",
       "        vertical-align: top;\n",
       "    }\n",
       "\n",
       "    .dataframe thead th {\n",
       "        text-align: right;\n",
       "    }\n",
       "</style>\n",
       "<table border=\"1\" class=\"dataframe\">\n",
       "  <thead>\n",
       "    <tr style=\"text-align: right;\">\n",
       "      <th></th>\n",
       "      <th>city</th>\n",
       "      <th>state</th>\n",
       "      <th>country</th>\n",
       "      <th>shape</th>\n",
       "      <th>duration_m</th>\n",
       "      <th>comments</th>\n",
       "      <th>latitude</th>\n",
       "      <th>longitude</th>\n",
       "      <th>date</th>\n",
       "      <th>time</th>\n",
       "    </tr>\n",
       "  </thead>\n",
       "  <tbody>\n",
       "    <tr>\n",
       "      <th>0</th>\n",
       "      <td>san marcos</td>\n",
       "      <td>tx</td>\n",
       "      <td>us</td>\n",
       "      <td>cylinder</td>\n",
       "      <td>45.000000</td>\n",
       "      <td>This event took place in early fall around 194...</td>\n",
       "      <td>29.883056</td>\n",
       "      <td>-97.941111</td>\n",
       "      <td>1949-10-10</td>\n",
       "      <td>20:30:00</td>\n",
       "    </tr>\n",
       "    <tr>\n",
       "      <th>1</th>\n",
       "      <td>edna</td>\n",
       "      <td>tx</td>\n",
       "      <td>us</td>\n",
       "      <td>circle</td>\n",
       "      <td>0.333333</td>\n",
       "      <td>My older brother and twin sister were leaving ...</td>\n",
       "      <td>28.978333</td>\n",
       "      <td>-96.645833</td>\n",
       "      <td>1956-10-10</td>\n",
       "      <td>21:00:00</td>\n",
       "    </tr>\n",
       "    <tr>\n",
       "      <th>2</th>\n",
       "      <td>kaneohe</td>\n",
       "      <td>hi</td>\n",
       "      <td>us</td>\n",
       "      <td>light</td>\n",
       "      <td>15.000000</td>\n",
       "      <td>AS a Marine 1st Lt. flying an FJ4B fighter/att...</td>\n",
       "      <td>21.418056</td>\n",
       "      <td>-157.803611</td>\n",
       "      <td>1960-10-10</td>\n",
       "      <td>20:00:00</td>\n",
       "    </tr>\n",
       "    <tr>\n",
       "      <th>3</th>\n",
       "      <td>bristol</td>\n",
       "      <td>tn</td>\n",
       "      <td>us</td>\n",
       "      <td>sphere</td>\n",
       "      <td>5.000000</td>\n",
       "      <td>My father is now 89 my brother 52 the girl wit...</td>\n",
       "      <td>36.595000</td>\n",
       "      <td>-82.188889</td>\n",
       "      <td>1961-10-10</td>\n",
       "      <td>19:00:00</td>\n",
       "    </tr>\n",
       "    <tr>\n",
       "      <th>4</th>\n",
       "      <td>norwalk</td>\n",
       "      <td>ct</td>\n",
       "      <td>us</td>\n",
       "      <td>disk</td>\n",
       "      <td>20.000000</td>\n",
       "      <td>A bright orange color changing to reddish colo...</td>\n",
       "      <td>41.117500</td>\n",
       "      <td>-73.408333</td>\n",
       "      <td>1965-10-10</td>\n",
       "      <td>23:45:00</td>\n",
       "    </tr>\n",
       "  </tbody>\n",
       "</table>\n",
       "</div>"
      ],
      "text/plain": [
       "         city state country     shape  duration_m  \\\n",
       "0  san marcos    tx      us  cylinder   45.000000   \n",
       "1        edna    tx      us    circle    0.333333   \n",
       "2     kaneohe    hi      us     light   15.000000   \n",
       "3     bristol    tn      us    sphere    5.000000   \n",
       "4     norwalk    ct      us      disk   20.000000   \n",
       "\n",
       "                                            comments   latitude   longitude  \\\n",
       "0  This event took place in early fall around 194...  29.883056  -97.941111   \n",
       "1  My older brother and twin sister were leaving ...  28.978333  -96.645833   \n",
       "2  AS a Marine 1st Lt. flying an FJ4B fighter/att...  21.418056 -157.803611   \n",
       "3  My father is now 89 my brother 52 the girl wit...  36.595000  -82.188889   \n",
       "4  A bright orange color changing to reddish colo...  41.117500  -73.408333   \n",
       "\n",
       "        date      time  \n",
       "0 1949-10-10  20:30:00  \n",
       "1 1956-10-10  21:00:00  \n",
       "2 1960-10-10  20:00:00  \n",
       "3 1961-10-10  19:00:00  \n",
       "4 1965-10-10  23:45:00  "
      ]
     },
     "execution_count": 137,
     "metadata": {},
     "output_type": "execute_result"
    }
   ],
   "source": [
    "# carregando o df pré processado\n",
    "\n",
    "df = pd.read_csv('pre_processado.csv', parse_dates=['date'])\n",
    "df.head()"
   ]
  },
  {
   "cell_type": "markdown",
   "metadata": {},
   "source": [
    "## Analisando a quantidade de avistamentos por países"
   ]
  },
  {
   "cell_type": "code",
   "execution_count": 138,
   "metadata": {},
   "outputs": [
    {
     "data": {
      "text/html": [
       "<div>\n",
       "<style scoped>\n",
       "    .dataframe tbody tr th:only-of-type {\n",
       "        vertical-align: middle;\n",
       "    }\n",
       "\n",
       "    .dataframe tbody tr th {\n",
       "        vertical-align: top;\n",
       "    }\n",
       "\n",
       "    .dataframe thead th {\n",
       "        text-align: right;\n",
       "    }\n",
       "</style>\n",
       "<table border=\"1\" class=\"dataframe\">\n",
       "  <thead>\n",
       "    <tr style=\"text-align: right;\">\n",
       "      <th></th>\n",
       "      <th>qtd_avistamento_por_pais</th>\n",
       "    </tr>\n",
       "    <tr>\n",
       "      <th>country</th>\n",
       "      <th></th>\n",
       "    </tr>\n",
       "  </thead>\n",
       "  <tbody>\n",
       "    <tr>\n",
       "      <th>au</th>\n",
       "      <td>10</td>\n",
       "    </tr>\n",
       "    <tr>\n",
       "      <th>ca</th>\n",
       "      <td>2942</td>\n",
       "    </tr>\n",
       "    <tr>\n",
       "      <th>gb</th>\n",
       "      <td>11</td>\n",
       "    </tr>\n",
       "    <tr>\n",
       "      <th>us</th>\n",
       "      <td>63553</td>\n",
       "    </tr>\n",
       "  </tbody>\n",
       "</table>\n",
       "</div>"
      ],
      "text/plain": [
       "         qtd_avistamento_por_pais\n",
       "country                          \n",
       "au                             10\n",
       "ca                           2942\n",
       "gb                             11\n",
       "us                          63553"
      ]
     },
     "execution_count": 138,
     "metadata": {},
     "output_type": "execute_result"
    }
   ],
   "source": [
    "# definindo qual país tem a maior quantidade de reports de avistamento\n",
    "\n",
    "df_c = df[['country']]\n",
    "df_c = df_c.groupby(['country'])['country'].count().to_frame()\n",
    "df_c = df_c.rename(columns={'country': 'qtd_avistamento_por_pais'})\n",
    "df_c"
   ]
  },
  {
   "cell_type": "code",
   "execution_count": 139,
   "metadata": {},
   "outputs": [
    {
     "name": "stdout",
     "output_type": "stream",
     "text": [
      "A quantidade máxima de avistamentos por países foi de [63553] no país ['us']\n"
     ]
    }
   ],
   "source": [
    "maxc_qtd = list(df_c.max())\n",
    "maxc_name = list(df_c.idxmax())\n",
    "\n",
    "print(f'A quantidade máxima de avistamentos por países foi de {maxc_qtd} no país {maxc_name}')"
   ]
  },
  {
   "cell_type": "markdown",
   "metadata": {},
   "source": [
    "## Analisando a quantidade de avistamentos por estados no país com maior quantidade de avistamentos [US]"
   ]
  },
  {
   "cell_type": "code",
   "execution_count": 140,
   "metadata": {},
   "outputs": [
    {
     "data": {
      "text/html": [
       "<div>\n",
       "<style scoped>\n",
       "    .dataframe tbody tr th:only-of-type {\n",
       "        vertical-align: middle;\n",
       "    }\n",
       "\n",
       "    .dataframe tbody tr th {\n",
       "        vertical-align: top;\n",
       "    }\n",
       "\n",
       "    .dataframe thead th {\n",
       "        text-align: right;\n",
       "    }\n",
       "</style>\n",
       "<table border=\"1\" class=\"dataframe\">\n",
       "  <thead>\n",
       "    <tr style=\"text-align: right;\">\n",
       "      <th></th>\n",
       "      <th>qtd_avistamento_por_state</th>\n",
       "    </tr>\n",
       "    <tr>\n",
       "      <th>state</th>\n",
       "      <th></th>\n",
       "    </tr>\n",
       "  </thead>\n",
       "  <tbody>\n",
       "    <tr>\n",
       "      <th>ak</th>\n",
       "      <td>311</td>\n",
       "    </tr>\n",
       "    <tr>\n",
       "      <th>al</th>\n",
       "      <td>629</td>\n",
       "    </tr>\n",
       "    <tr>\n",
       "      <th>ar</th>\n",
       "      <td>578</td>\n",
       "    </tr>\n",
       "    <tr>\n",
       "      <th>az</th>\n",
       "      <td>2362</td>\n",
       "    </tr>\n",
       "    <tr>\n",
       "      <th>ca</th>\n",
       "      <td>8683</td>\n",
       "    </tr>\n",
       "  </tbody>\n",
       "</table>\n",
       "</div>"
      ],
      "text/plain": [
       "       qtd_avistamento_por_state\n",
       "state                           \n",
       "ak                           311\n",
       "al                           629\n",
       "ar                           578\n",
       "az                          2362\n",
       "ca                          8683"
      ]
     },
     "execution_count": 140,
     "metadata": {},
     "output_type": "execute_result"
    }
   ],
   "source": [
    "# definindo qual estado do US tem a maior quantidade de reports de avistamento\n",
    "\n",
    "df_s = df.loc[df['country'] == maxc_name[0]]\n",
    "df_s = df_s.groupby(['state'])['state'].count().to_frame()\n",
    "df_s = df_s.rename(columns={'state': 'qtd_avistamento_por_state'})\n",
    "df_s.head()"
   ]
  },
  {
   "cell_type": "code",
   "execution_count": 141,
   "metadata": {},
   "outputs": [
    {
     "name": "stdout",
     "output_type": "stream",
     "text": [
      "A quantidade máxima de avistamentos por estados foi de [8683] no estado ['ca']\n"
     ]
    }
   ],
   "source": [
    "maxs_qtd = list(df_s.max())\n",
    "maxs_name = list(df_s.idxmax())\n",
    "\n",
    "print(f'A quantidade máxima de avistamentos por estados foi de {maxs_qtd} no estado {maxs_name}')"
   ]
  },
  {
   "cell_type": "markdown",
   "metadata": {},
   "source": [
    "## Analisando a quantidade de avistamentos por cidades no estado com maior quantidade de avistamentos [CA]"
   ]
  },
  {
   "cell_type": "code",
   "execution_count": 142,
   "metadata": {},
   "outputs": [
    {
     "data": {
      "text/html": [
       "<div>\n",
       "<style scoped>\n",
       "    .dataframe tbody tr th:only-of-type {\n",
       "        vertical-align: middle;\n",
       "    }\n",
       "\n",
       "    .dataframe tbody tr th {\n",
       "        vertical-align: top;\n",
       "    }\n",
       "\n",
       "    .dataframe thead th {\n",
       "        text-align: right;\n",
       "    }\n",
       "</style>\n",
       "<table border=\"1\" class=\"dataframe\">\n",
       "  <thead>\n",
       "    <tr style=\"text-align: right;\">\n",
       "      <th></th>\n",
       "      <th>qtd_avistamento_por_city</th>\n",
       "    </tr>\n",
       "    <tr>\n",
       "      <th>city</th>\n",
       "      <th></th>\n",
       "    </tr>\n",
       "  </thead>\n",
       "  <tbody>\n",
       "    <tr>\n",
       "      <th>acampo</th>\n",
       "      <td>1</td>\n",
       "    </tr>\n",
       "    <tr>\n",
       "      <th>acton</th>\n",
       "      <td>5</td>\n",
       "    </tr>\n",
       "    <tr>\n",
       "      <th>acton (approx.)</th>\n",
       "      <td>1</td>\n",
       "    </tr>\n",
       "    <tr>\n",
       "      <th>adelanto</th>\n",
       "      <td>4</td>\n",
       "    </tr>\n",
       "    <tr>\n",
       "      <th>agoura hills</th>\n",
       "      <td>6</td>\n",
       "    </tr>\n",
       "  </tbody>\n",
       "</table>\n",
       "</div>"
      ],
      "text/plain": [
       "                 qtd_avistamento_por_city\n",
       "city                                     \n",
       "acampo                                  1\n",
       "acton                                   5\n",
       "acton (approx.)                         1\n",
       "adelanto                                4\n",
       "agoura hills                            6"
      ]
     },
     "execution_count": 142,
     "metadata": {},
     "output_type": "execute_result"
    }
   ],
   "source": [
    "# definindo qual cidade da CA tem a maior quantidade de reports de avistamento \n",
    "\n",
    "df_ci = df.loc[(df['country'] == maxc_name[0]) & (df['state'] == maxs_name[0])]\n",
    "df_ci = df_ci.groupby(['city'])['city'].count().to_frame()\n",
    "df_ci = df_ci.rename(columns={'city': 'qtd_avistamento_por_city'})\n",
    "df_ci.head()"
   ]
  },
  {
   "cell_type": "code",
   "execution_count": 143,
   "metadata": {},
   "outputs": [
    {
     "name": "stdout",
     "output_type": "stream",
     "text": [
      "A quantidade máxima de avistamentos por cidades foi de [347] na cidade ['los angeles']\n"
     ]
    }
   ],
   "source": [
    "maxci_qtd = list(df_ci.max())\n",
    "maxci_name = list(df_ci.idxmax())\n",
    "\n",
    "print(f'A quantidade máxima de avistamentos por cidades foi de {maxci_qtd} na cidade {maxci_name}')"
   ]
  },
  {
   "cell_type": "markdown",
   "metadata": {},
   "source": [
    "## Limitando o dataframe para a cidade com maior quantidade de avistamentos [LA]"
   ]
  },
  {
   "cell_type": "code",
   "execution_count": 176,
   "metadata": {},
   "outputs": [
    {
     "data": {
      "text/html": [
       "<div>\n",
       "<style scoped>\n",
       "    .dataframe tbody tr th:only-of-type {\n",
       "        vertical-align: middle;\n",
       "    }\n",
       "\n",
       "    .dataframe tbody tr th {\n",
       "        vertical-align: top;\n",
       "    }\n",
       "\n",
       "    .dataframe thead th {\n",
       "        text-align: right;\n",
       "    }\n",
       "</style>\n",
       "<table border=\"1\" class=\"dataframe\">\n",
       "  <thead>\n",
       "    <tr style=\"text-align: right;\">\n",
       "      <th></th>\n",
       "      <th>city</th>\n",
       "      <th>state</th>\n",
       "      <th>country</th>\n",
       "      <th>shape</th>\n",
       "      <th>duration_m</th>\n",
       "      <th>comments</th>\n",
       "      <th>latitude</th>\n",
       "      <th>longitude</th>\n",
       "      <th>date</th>\n",
       "      <th>time</th>\n",
       "    </tr>\n",
       "  </thead>\n",
       "  <tbody>\n",
       "    <tr>\n",
       "      <th>119</th>\n",
       "      <td>los angeles</td>\n",
       "      <td>ca</td>\n",
       "      <td>us</td>\n",
       "      <td>oval</td>\n",
       "      <td>0.166667</td>\n",
       "      <td>Egg UFO over Hollywood Hills and LAX in LOS AN...</td>\n",
       "      <td>34.052222</td>\n",
       "      <td>-118.242778</td>\n",
       "      <td>2005-10-10</td>\n",
       "      <td>14:45:00</td>\n",
       "    </tr>\n",
       "    <tr>\n",
       "      <th>259</th>\n",
       "      <td>los angeles</td>\n",
       "      <td>ca</td>\n",
       "      <td>us</td>\n",
       "      <td>light</td>\n",
       "      <td>5.000000</td>\n",
       "      <td>It was a large bright light sitting stationary...</td>\n",
       "      <td>34.052222</td>\n",
       "      <td>-118.242778</td>\n",
       "      <td>1999-10-11</td>\n",
       "      <td>04:30:00</td>\n",
       "    </tr>\n",
       "    <tr>\n",
       "      <th>296</th>\n",
       "      <td>los angeles</td>\n",
       "      <td>ca</td>\n",
       "      <td>us</td>\n",
       "      <td>rectangle</td>\n",
       "      <td>0.333333</td>\n",
       "      <td>Large&amp;#44 rectangular&amp;#44 pale green-blue obje...</td>\n",
       "      <td>34.052222</td>\n",
       "      <td>-118.242778</td>\n",
       "      <td>2004-10-11</td>\n",
       "      <td>02:37:00</td>\n",
       "    </tr>\n",
       "    <tr>\n",
       "      <th>341</th>\n",
       "      <td>los angeles</td>\n",
       "      <td>ca</td>\n",
       "      <td>us</td>\n",
       "      <td>triangle</td>\n",
       "      <td>0.500000</td>\n",
       "      <td>Large Triangle sighted over L.A</td>\n",
       "      <td>34.052222</td>\n",
       "      <td>-118.242778</td>\n",
       "      <td>2008-10-11</td>\n",
       "      <td>22:30:00</td>\n",
       "    </tr>\n",
       "    <tr>\n",
       "      <th>659</th>\n",
       "      <td>los angeles</td>\n",
       "      <td>ca</td>\n",
       "      <td>us</td>\n",
       "      <td>formation</td>\n",
       "      <td>25.000000</td>\n",
       "      <td>4 UFOs in a big arrowlike formation at high al...</td>\n",
       "      <td>34.052222</td>\n",
       "      <td>-118.242778</td>\n",
       "      <td>2005-10-01</td>\n",
       "      <td>17:00:00</td>\n",
       "    </tr>\n",
       "    <tr>\n",
       "      <th>...</th>\n",
       "      <td>...</td>\n",
       "      <td>...</td>\n",
       "      <td>...</td>\n",
       "      <td>...</td>\n",
       "      <td>...</td>\n",
       "      <td>...</td>\n",
       "      <td>...</td>\n",
       "      <td>...</td>\n",
       "      <td>...</td>\n",
       "      <td>...</td>\n",
       "    </tr>\n",
       "    <tr>\n",
       "      <th>65240</th>\n",
       "      <td>los angeles</td>\n",
       "      <td>ca</td>\n",
       "      <td>us</td>\n",
       "      <td>oval</td>\n",
       "      <td>15.000000</td>\n",
       "      <td>White oval object traveling overhead northeast...</td>\n",
       "      <td>34.052222</td>\n",
       "      <td>-118.242778</td>\n",
       "      <td>2012-09-30</td>\n",
       "      <td>15:50:00</td>\n",
       "    </tr>\n",
       "    <tr>\n",
       "      <th>65366</th>\n",
       "      <td>los angeles</td>\n",
       "      <td>ca</td>\n",
       "      <td>us</td>\n",
       "      <td>oval</td>\n",
       "      <td>0.083333</td>\n",
       "      <td>UFO with intense lights seen over LA on Sept. ...</td>\n",
       "      <td>34.052222</td>\n",
       "      <td>-118.242778</td>\n",
       "      <td>2009-09-03</td>\n",
       "      <td>23:30:00</td>\n",
       "    </tr>\n",
       "    <tr>\n",
       "      <th>66030</th>\n",
       "      <td>los angeles</td>\n",
       "      <td>ca</td>\n",
       "      <td>us</td>\n",
       "      <td>light</td>\n",
       "      <td>2.000000</td>\n",
       "      <td>Orange light climbs 3 minutes straight up into...</td>\n",
       "      <td>34.052222</td>\n",
       "      <td>-118.242778</td>\n",
       "      <td>2005-09-07</td>\n",
       "      <td>01:56:00</td>\n",
       "    </tr>\n",
       "    <tr>\n",
       "      <th>66224</th>\n",
       "      <td>los angeles</td>\n",
       "      <td>ca</td>\n",
       "      <td>us</td>\n",
       "      <td>light</td>\n",
       "      <td>0.500000</td>\n",
       "      <td>Two steady&amp;#44 white lights heading northeast ...</td>\n",
       "      <td>34.052222</td>\n",
       "      <td>-118.242778</td>\n",
       "      <td>2009-09-08</td>\n",
       "      <td>19:48:00</td>\n",
       "    </tr>\n",
       "    <tr>\n",
       "      <th>66373</th>\n",
       "      <td>los angeles</td>\n",
       "      <td>ca</td>\n",
       "      <td>us</td>\n",
       "      <td>changing</td>\n",
       "      <td>7.000000</td>\n",
       "      <td>it was a very interesting object.</td>\n",
       "      <td>34.052222</td>\n",
       "      <td>-118.242778</td>\n",
       "      <td>2003-09-09</td>\n",
       "      <td>18:27:00</td>\n",
       "    </tr>\n",
       "  </tbody>\n",
       "</table>\n",
       "<p>347 rows × 10 columns</p>\n",
       "</div>"
      ],
      "text/plain": [
       "              city state country      shape  duration_m  \\\n",
       "119    los angeles    ca      us       oval    0.166667   \n",
       "259    los angeles    ca      us      light    5.000000   \n",
       "296    los angeles    ca      us  rectangle    0.333333   \n",
       "341    los angeles    ca      us   triangle    0.500000   \n",
       "659    los angeles    ca      us  formation   25.000000   \n",
       "...            ...   ...     ...        ...         ...   \n",
       "65240  los angeles    ca      us       oval   15.000000   \n",
       "65366  los angeles    ca      us       oval    0.083333   \n",
       "66030  los angeles    ca      us      light    2.000000   \n",
       "66224  los angeles    ca      us      light    0.500000   \n",
       "66373  los angeles    ca      us   changing    7.000000   \n",
       "\n",
       "                                                comments   latitude  \\\n",
       "119    Egg UFO over Hollywood Hills and LAX in LOS AN...  34.052222   \n",
       "259    It was a large bright light sitting stationary...  34.052222   \n",
       "296    Large&#44 rectangular&#44 pale green-blue obje...  34.052222   \n",
       "341                      Large Triangle sighted over L.A  34.052222   \n",
       "659    4 UFOs in a big arrowlike formation at high al...  34.052222   \n",
       "...                                                  ...        ...   \n",
       "65240  White oval object traveling overhead northeast...  34.052222   \n",
       "65366  UFO with intense lights seen over LA on Sept. ...  34.052222   \n",
       "66030  Orange light climbs 3 minutes straight up into...  34.052222   \n",
       "66224  Two steady&#44 white lights heading northeast ...  34.052222   \n",
       "66373                  it was a very interesting object.  34.052222   \n",
       "\n",
       "        longitude       date      time  \n",
       "119   -118.242778 2005-10-10  14:45:00  \n",
       "259   -118.242778 1999-10-11  04:30:00  \n",
       "296   -118.242778 2004-10-11  02:37:00  \n",
       "341   -118.242778 2008-10-11  22:30:00  \n",
       "659   -118.242778 2005-10-01  17:00:00  \n",
       "...           ...        ...       ...  \n",
       "65240 -118.242778 2012-09-30  15:50:00  \n",
       "65366 -118.242778 2009-09-03  23:30:00  \n",
       "66030 -118.242778 2005-09-07  01:56:00  \n",
       "66224 -118.242778 2009-09-08  19:48:00  \n",
       "66373 -118.242778 2003-09-09  18:27:00  \n",
       "\n",
       "[347 rows x 10 columns]"
      ]
     },
     "execution_count": 176,
     "metadata": {},
     "output_type": "execute_result"
    }
   ],
   "source": [
    "# limitando o DF para US - Califórnia - Los Angeles\n",
    "\n",
    "df_max = df.loc[(df['country'] == maxc_name[0]) & (df['state'] == maxs_name[0]) & (df['city'] == maxci_name[0])]\n",
    "df_max"
   ]
  },
  {
   "cell_type": "markdown",
   "metadata": {},
   "source": [
    "## Analisando a quantidade de avistamentos em LA"
   ]
  },
  {
   "cell_type": "markdown",
   "metadata": {},
   "source": [
    "### Por ano"
   ]
  },
  {
   "cell_type": "code",
   "execution_count": 177,
   "metadata": {},
   "outputs": [],
   "source": [
    "# agrupando o df por anos e contando os avistamentos\n",
    "\n",
    "df_year = df_max.groupby([df['date'].dt.year])['date'].count().to_frame()\n",
    "df_year = df_year.rename(columns={'date': 'qtd_avistamento_por_ano'})"
   ]
  },
  {
   "cell_type": "code",
   "execution_count": 178,
   "metadata": {},
   "outputs": [
    {
     "data": {
      "text/plain": [
       "Text(0, 0.5, 'QUANTIDADE')"
      ]
     },
     "execution_count": 178,
     "metadata": {},
     "output_type": "execute_result"
    },
    {
     "data": {
      "image/png": "[encoded data removed]",
      "text/plain": [
       "<Figure size 1080x288 with 1 Axes>"
      ]
     },
     "metadata": {
      "needs_background": "light"
     },
     "output_type": "display_data"
    }
   ],
   "source": [
    "fig = df_year.plot(title='UFOs - Quantidade de avistamentos por ano', rot=60, figsize=(15,4))\n",
    "fig.set_xlabel('ANO')\n",
    "fig.set_ylabel('QUANTIDADE')"
   ]
  },
  {
   "cell_type": "markdown",
   "metadata": {},
   "source": [
    "### A partir de 2000"
   ]
  },
  {
   "cell_type": "code",
   "execution_count": 197,
   "metadata": {},
   "outputs": [],
   "source": [
    "# limitando o df a partir do ano 2000, que possui maior quantidade de avistamentos\n",
    "\n",
    "df_2000 = df_max.loc[(df['date'].dt.year >= 2000)]"
   ]
  },
  {
   "cell_type": "code",
   "execution_count": 198,
   "metadata": {},
   "outputs": [
    {
     "data": {
      "text/html": [
       "<div>\n",
       "<style scoped>\n",
       "    .dataframe tbody tr th:only-of-type {\n",
       "        vertical-align: middle;\n",
       "    }\n",
       "\n",
       "    .dataframe tbody tr th {\n",
       "        vertical-align: top;\n",
       "    }\n",
       "\n",
       "    .dataframe thead th {\n",
       "        text-align: right;\n",
       "    }\n",
       "</style>\n",
       "<table border=\"1\" class=\"dataframe\">\n",
       "  <thead>\n",
       "    <tr style=\"text-align: right;\">\n",
       "      <th></th>\n",
       "      <th>qtd_avistamento_por_ano</th>\n",
       "    </tr>\n",
       "    <tr>\n",
       "      <th>date</th>\n",
       "      <th></th>\n",
       "    </tr>\n",
       "  </thead>\n",
       "  <tbody>\n",
       "    <tr>\n",
       "      <th>2000</th>\n",
       "      <td>20</td>\n",
       "    </tr>\n",
       "    <tr>\n",
       "      <th>2001</th>\n",
       "      <td>17</td>\n",
       "    </tr>\n",
       "    <tr>\n",
       "      <th>2002</th>\n",
       "      <td>16</td>\n",
       "    </tr>\n",
       "    <tr>\n",
       "      <th>2003</th>\n",
       "      <td>25</td>\n",
       "    </tr>\n",
       "    <tr>\n",
       "      <th>2004</th>\n",
       "      <td>27</td>\n",
       "    </tr>\n",
       "  </tbody>\n",
       "</table>\n",
       "</div>"
      ],
      "text/plain": [
       "      qtd_avistamento_por_ano\n",
       "date                         \n",
       "2000                       20\n",
       "2001                       17\n",
       "2002                       16\n",
       "2003                       25\n",
       "2004                       27"
      ]
     },
     "execution_count": 198,
     "metadata": {},
     "output_type": "execute_result"
    }
   ],
   "source": [
    "# agrupando o df por anos a partir de 2000 e contando os avistamentos\n",
    "\n",
    "df_2000 = df_2000.groupby([df['date'].dt.year])['date'].count().to_frame()\n",
    "df_2000 = df_2000.rename(columns={'date': 'qtd_avistamento_por_ano'})\n",
    "df_2000.head()"
   ]
  },
  {
   "cell_type": "code",
   "execution_count": 199,
   "metadata": {},
   "outputs": [
    {
     "data": {
      "text/plain": [
       "Text(0, 0.5, 'QUANTIDADE')"
      ]
     },
     "execution_count": 199,
     "metadata": {},
     "output_type": "execute_result"
    },
    {
     "data": {
      "image/png": "[encoded data removed]",
      "text/plain": [
       "<Figure size 1080x288 with 1 Axes>"
      ]
     },
     "metadata": {
      "needs_background": "light"
     },
     "output_type": "display_data"
    }
   ],
   "source": [
    "fig = df_2000.plot(title='UFOs - Quantidade de avistamentos a partir de 2000', rot=60, figsize=(15,4))\n",
    "fig.set_xlabel('DATA')\n",
    "fig.set_ylabel('QUANTIDADE')"
   ]
  },
  {
   "cell_type": "markdown",
   "metadata": {},
   "source": [
    "# Analisando o formato dos avistamentos em LA"
   ]
  },
  {
   "cell_type": "code",
   "execution_count": 179,
   "metadata": {},
   "outputs": [
    {
     "data": {
      "text/html": [
       "<div>\n",
       "<style scoped>\n",
       "    .dataframe tbody tr th:only-of-type {\n",
       "        vertical-align: middle;\n",
       "    }\n",
       "\n",
       "    .dataframe tbody tr th {\n",
       "        vertical-align: top;\n",
       "    }\n",
       "\n",
       "    .dataframe thead th {\n",
       "        text-align: right;\n",
       "    }\n",
       "</style>\n",
       "<table border=\"1\" class=\"dataframe\">\n",
       "  <thead>\n",
       "    <tr style=\"text-align: right;\">\n",
       "      <th></th>\n",
       "      <th>shape</th>\n",
       "    </tr>\n",
       "  </thead>\n",
       "  <tbody>\n",
       "    <tr>\n",
       "      <th>119</th>\n",
       "      <td>oval</td>\n",
       "    </tr>\n",
       "    <tr>\n",
       "      <th>259</th>\n",
       "      <td>light</td>\n",
       "    </tr>\n",
       "    <tr>\n",
       "      <th>296</th>\n",
       "      <td>rectangle</td>\n",
       "    </tr>\n",
       "    <tr>\n",
       "      <th>341</th>\n",
       "      <td>triangle</td>\n",
       "    </tr>\n",
       "    <tr>\n",
       "      <th>659</th>\n",
       "      <td>formation</td>\n",
       "    </tr>\n",
       "    <tr>\n",
       "      <th>...</th>\n",
       "      <td>...</td>\n",
       "    </tr>\n",
       "    <tr>\n",
       "      <th>65240</th>\n",
       "      <td>oval</td>\n",
       "    </tr>\n",
       "    <tr>\n",
       "      <th>65366</th>\n",
       "      <td>oval</td>\n",
       "    </tr>\n",
       "    <tr>\n",
       "      <th>66030</th>\n",
       "      <td>light</td>\n",
       "    </tr>\n",
       "    <tr>\n",
       "      <th>66224</th>\n",
       "      <td>light</td>\n",
       "    </tr>\n",
       "    <tr>\n",
       "      <th>66373</th>\n",
       "      <td>changing</td>\n",
       "    </tr>\n",
       "  </tbody>\n",
       "</table>\n",
       "<p>347 rows × 1 columns</p>\n",
       "</div>"
      ],
      "text/plain": [
       "           shape\n",
       "119         oval\n",
       "259        light\n",
       "296    rectangle\n",
       "341     triangle\n",
       "659    formation\n",
       "...          ...\n",
       "65240       oval\n",
       "65366       oval\n",
       "66030      light\n",
       "66224      light\n",
       "66373   changing\n",
       "\n",
       "[347 rows x 1 columns]"
      ]
     },
     "execution_count": 179,
     "metadata": {},
     "output_type": "execute_result"
    }
   ],
   "source": [
    "df_shapes = df_max[['shape']]\n",
    "df_shapes"
   ]
  },
  {
   "cell_type": "code",
   "execution_count": 200,
   "metadata": {},
   "outputs": [
    {
     "data": {
      "text/plain": [
       "shape    \n",
       "light        63\n",
       "unknown      47\n",
       "circle       36\n",
       "triangle     30\n",
       "disk         29\n",
       "fireball     29\n",
       "sphere       25\n",
       "oval         21\n",
       "cigar        16\n",
       "changing     13\n",
       "formation    11\n",
       "flash         5\n",
       "rectangle     5\n",
       "chevron       5\n",
       "diamond       4\n",
       "teardrop      4\n",
       "cone          3\n",
       "cylinder      1\n",
       "dtype: int64"
      ]
     },
     "execution_count": 200,
     "metadata": {},
     "output_type": "execute_result"
    }
   ],
   "source": [
    "# contando a quantidade de formatos avistados\n",
    "shapes = df_shapes.value_counts()\n",
    "shapes"
   ]
  },
  {
   "cell_type": "code",
   "execution_count": 181,
   "metadata": {},
   "outputs": [
    {
     "data": {
      "text/plain": [
       "shape    \n",
       "light        18.155620\n",
       "unknown      13.544669\n",
       "circle       10.374640\n",
       "triangle      8.645533\n",
       "disk          8.357349\n",
       "fireball      8.357349\n",
       "sphere        7.204611\n",
       "oval          6.051873\n",
       "cigar         4.610951\n",
       "changing      3.746398\n",
       "formation     3.170029\n",
       "flash         1.440922\n",
       "rectangle     1.440922\n",
       "chevron       1.440922\n",
       "diamond       1.152738\n",
       "teardrop      1.152738\n",
       "cone          0.864553\n",
       "cylinder      0.288184\n",
       "dtype: float64"
      ]
     },
     "execution_count": 181,
     "metadata": {},
     "output_type": "execute_result"
    }
   ],
   "source": [
    "# transformando a contagem em porcentagem\n",
    "\n",
    "shapes_pct = ((shapes/len(df_shapes))*100)\n",
    "shapes_pct"
   ]
  },
  {
   "cell_type": "code",
   "execution_count": 182,
   "metadata": {},
   "outputs": [
    {
     "data": {
      "text/plain": [
       "Text(0, 0.5, 'PORCENTAGEM DE AVISTAMENTOS')"
      ]
     },
     "execution_count": 182,
     "metadata": {},
     "output_type": "execute_result"
    },
    {
     "data": {
      "image/png": "[encoded data removed]",
      "text/plain": [
       "<Figure size 432x288 with 1 Axes>"
      ]
     },
     "metadata": {
      "needs_background": "light"
     },
     "output_type": "display_data"
    }
   ],
   "source": [
    "fig = shapes_pct.plot(kind='bar', title='UFOs Aparencia nos EUA')\n",
    "fig.set_xlabel('APARENCIA RELATADA')\n",
    "fig.set_ylabel('PORCENTAGEM DE AVISTAMENTOS')"
   ]
  },
  {
   "cell_type": "markdown",
   "metadata": {},
   "source": [
    "# Tempo médio de avistamento em LA"
   ]
  },
  {
   "cell_type": "code",
   "execution_count": 183,
   "metadata": {},
   "outputs": [
    {
     "data": {
      "text/html": [
       "<div>\n",
       "<style scoped>\n",
       "    .dataframe tbody tr th:only-of-type {\n",
       "        vertical-align: middle;\n",
       "    }\n",
       "\n",
       "    .dataframe tbody tr th {\n",
       "        vertical-align: top;\n",
       "    }\n",
       "\n",
       "    .dataframe thead th {\n",
       "        text-align: right;\n",
       "    }\n",
       "</style>\n",
       "<table border=\"1\" class=\"dataframe\">\n",
       "  <thead>\n",
       "    <tr style=\"text-align: right;\">\n",
       "      <th></th>\n",
       "      <th>duration_m</th>\n",
       "    </tr>\n",
       "  </thead>\n",
       "  <tbody>\n",
       "    <tr>\n",
       "      <th>119</th>\n",
       "      <td>0.166667</td>\n",
       "    </tr>\n",
       "    <tr>\n",
       "      <th>259</th>\n",
       "      <td>5.000000</td>\n",
       "    </tr>\n",
       "    <tr>\n",
       "      <th>296</th>\n",
       "      <td>0.333333</td>\n",
       "    </tr>\n",
       "    <tr>\n",
       "      <th>341</th>\n",
       "      <td>0.500000</td>\n",
       "    </tr>\n",
       "    <tr>\n",
       "      <th>659</th>\n",
       "      <td>25.000000</td>\n",
       "    </tr>\n",
       "  </tbody>\n",
       "</table>\n",
       "</div>"
      ],
      "text/plain": [
       "     duration_m\n",
       "119    0.166667\n",
       "259    5.000000\n",
       "296    0.333333\n",
       "341    0.500000\n",
       "659   25.000000"
      ]
     },
     "execution_count": 183,
     "metadata": {},
     "output_type": "execute_result"
    }
   ],
   "source": [
    "df_duration = df_max[['duration_m']]\n",
    "df_duration.head()"
   ]
  },
  {
   "cell_type": "code",
   "execution_count": 184,
   "metadata": {},
   "outputs": [
    {
     "data": {
      "text/plain": [
       "12.906340057636893"
      ]
     },
     "execution_count": 184,
     "metadata": {},
     "output_type": "execute_result"
    }
   ],
   "source": [
    "# calculando o tempo médio por avistamentos\n",
    "\n",
    "duration_mean = df_duration['duration_m'].mean()\n",
    "duration_mean"
   ]
  }
 ],
 "metadata": {
  "kernelspec": {
   "display_name": "Python 3",
   "language": "python",
   "name": "python3"
  },
  "language_info": {
   "codemirror_mode": {
    "name": "ipython",
    "version": 3
   },
   "file_extension": ".py",
   "mimetype": "text/x-python",
   "name": "python",
   "nbconvert_exporter": "python",
   "pygments_lexer": "ipython3",
   "version": "3.8.5"
  }
 },
 "nbformat": 4,
 "nbformat_minor": 4
}
