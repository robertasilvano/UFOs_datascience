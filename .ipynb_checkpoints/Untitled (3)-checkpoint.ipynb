{
 "cells": [
  {
   "cell_type": "code",
   "execution_count": 1,
   "metadata": {},
   "outputs": [],
   "source": [
    "import pandas as pd\n",
    "import matplotlib.pyplot as plt"
   ]
  },
  {
   "cell_type": "code",
   "execution_count": 2,
   "metadata": {},
   "outputs": [
    {
     "data": {
      "text/html": [
       "<div>\n",
       "<style scoped>\n",
       "    .dataframe tbody tr th:only-of-type {\n",
       "        vertical-align: middle;\n",
       "    }\n",
       "\n",
       "    .dataframe tbody tr th {\n",
       "        vertical-align: top;\n",
       "    }\n",
       "\n",
       "    .dataframe thead th {\n",
       "        text-align: right;\n",
       "    }\n",
       "</style>\n",
       "<table border=\"1\" class=\"dataframe\">\n",
       "  <thead>\n",
       "    <tr style=\"text-align: right;\">\n",
       "      <th></th>\n",
       "      <th>city</th>\n",
       "      <th>state</th>\n",
       "      <th>country</th>\n",
       "      <th>shape</th>\n",
       "      <th>duration_m</th>\n",
       "      <th>comments</th>\n",
       "      <th>latitude</th>\n",
       "      <th>longitude</th>\n",
       "      <th>date</th>\n",
       "      <th>time</th>\n",
       "    </tr>\n",
       "  </thead>\n",
       "  <tbody>\n",
       "    <tr>\n",
       "      <th>0</th>\n",
       "      <td>san marcos</td>\n",
       "      <td>tx</td>\n",
       "      <td>us</td>\n",
       "      <td>cylinder</td>\n",
       "      <td>45.000000</td>\n",
       "      <td>This event took place in early fall around 194...</td>\n",
       "      <td>29.883056</td>\n",
       "      <td>-97.941111</td>\n",
       "      <td>1949-10-10</td>\n",
       "      <td>20:30:00</td>\n",
       "    </tr>\n",
       "    <tr>\n",
       "      <th>1</th>\n",
       "      <td>edna</td>\n",
       "      <td>tx</td>\n",
       "      <td>us</td>\n",
       "      <td>circle</td>\n",
       "      <td>0.333333</td>\n",
       "      <td>My older brother and twin sister were leaving ...</td>\n",
       "      <td>28.978333</td>\n",
       "      <td>-96.645833</td>\n",
       "      <td>1956-10-10</td>\n",
       "      <td>21:00:00</td>\n",
       "    </tr>\n",
       "    <tr>\n",
       "      <th>2</th>\n",
       "      <td>kaneohe</td>\n",
       "      <td>hi</td>\n",
       "      <td>us</td>\n",
       "      <td>light</td>\n",
       "      <td>15.000000</td>\n",
       "      <td>AS a Marine 1st Lt. flying an FJ4B fighter/att...</td>\n",
       "      <td>21.418056</td>\n",
       "      <td>-157.803611</td>\n",
       "      <td>1960-10-10</td>\n",
       "      <td>20:00:00</td>\n",
       "    </tr>\n",
       "    <tr>\n",
       "      <th>3</th>\n",
       "      <td>bristol</td>\n",
       "      <td>tn</td>\n",
       "      <td>us</td>\n",
       "      <td>sphere</td>\n",
       "      <td>5.000000</td>\n",
       "      <td>My father is now 89 my brother 52 the girl wit...</td>\n",
       "      <td>36.595000</td>\n",
       "      <td>-82.188889</td>\n",
       "      <td>1961-10-10</td>\n",
       "      <td>19:00:00</td>\n",
       "    </tr>\n",
       "    <tr>\n",
       "      <th>4</th>\n",
       "      <td>norwalk</td>\n",
       "      <td>ct</td>\n",
       "      <td>us</td>\n",
       "      <td>disk</td>\n",
       "      <td>20.000000</td>\n",
       "      <td>A bright orange color changing to reddish colo...</td>\n",
       "      <td>41.117500</td>\n",
       "      <td>-73.408333</td>\n",
       "      <td>1965-10-10</td>\n",
       "      <td>23:45:00</td>\n",
       "    </tr>\n",
       "    <tr>\n",
       "      <th>...</th>\n",
       "      <td>...</td>\n",
       "      <td>...</td>\n",
       "      <td>...</td>\n",
       "      <td>...</td>\n",
       "      <td>...</td>\n",
       "      <td>...</td>\n",
       "      <td>...</td>\n",
       "      <td>...</td>\n",
       "      <td>...</td>\n",
       "      <td>...</td>\n",
       "    </tr>\n",
       "    <tr>\n",
       "      <th>66511</th>\n",
       "      <td>nashville</td>\n",
       "      <td>tn</td>\n",
       "      <td>us</td>\n",
       "      <td>light</td>\n",
       "      <td>10.000000</td>\n",
       "      <td>Round from the distance/slowly changing colors...</td>\n",
       "      <td>36.165833</td>\n",
       "      <td>-86.784444</td>\n",
       "      <td>2013-09-09</td>\n",
       "      <td>21:15:00</td>\n",
       "    </tr>\n",
       "    <tr>\n",
       "      <th>66512</th>\n",
       "      <td>boise</td>\n",
       "      <td>id</td>\n",
       "      <td>us</td>\n",
       "      <td>circle</td>\n",
       "      <td>20.000000</td>\n",
       "      <td>Boise&amp;#44 ID&amp;#44 spherical&amp;#44 20 min&amp;#44 10 r...</td>\n",
       "      <td>43.613611</td>\n",
       "      <td>-116.202500</td>\n",
       "      <td>2013-09-09</td>\n",
       "      <td>22:00:00</td>\n",
       "    </tr>\n",
       "    <tr>\n",
       "      <th>66513</th>\n",
       "      <td>napa</td>\n",
       "      <td>ca</td>\n",
       "      <td>us</td>\n",
       "      <td>unknown</td>\n",
       "      <td>20.000000</td>\n",
       "      <td>Napa UFO&amp;#44</td>\n",
       "      <td>38.297222</td>\n",
       "      <td>-122.284444</td>\n",
       "      <td>2013-09-09</td>\n",
       "      <td>22:00:00</td>\n",
       "    </tr>\n",
       "    <tr>\n",
       "      <th>66514</th>\n",
       "      <td>vienna</td>\n",
       "      <td>va</td>\n",
       "      <td>us</td>\n",
       "      <td>circle</td>\n",
       "      <td>0.083333</td>\n",
       "      <td>Saw a five gold lit cicular craft moving fastl...</td>\n",
       "      <td>38.901111</td>\n",
       "      <td>-77.265556</td>\n",
       "      <td>2013-09-09</td>\n",
       "      <td>22:20:00</td>\n",
       "    </tr>\n",
       "    <tr>\n",
       "      <th>66515</th>\n",
       "      <td>edmond</td>\n",
       "      <td>ok</td>\n",
       "      <td>us</td>\n",
       "      <td>cigar</td>\n",
       "      <td>17.000000</td>\n",
       "      <td>2 witnesses 2  miles apart&amp;#44 Red &amp;amp; White...</td>\n",
       "      <td>35.652778</td>\n",
       "      <td>-97.477778</td>\n",
       "      <td>2013-09-09</td>\n",
       "      <td>23:00:00</td>\n",
       "    </tr>\n",
       "  </tbody>\n",
       "</table>\n",
       "<p>66516 rows × 10 columns</p>\n",
       "</div>"
      ],
      "text/plain": [
       "             city state country     shape  duration_m  \\\n",
       "0      san marcos    tx      us  cylinder   45.000000   \n",
       "1            edna    tx      us    circle    0.333333   \n",
       "2         kaneohe    hi      us     light   15.000000   \n",
       "3         bristol    tn      us    sphere    5.000000   \n",
       "4         norwalk    ct      us      disk   20.000000   \n",
       "...           ...   ...     ...       ...         ...   \n",
       "66511   nashville    tn      us     light   10.000000   \n",
       "66512       boise    id      us    circle   20.000000   \n",
       "66513        napa    ca      us   unknown   20.000000   \n",
       "66514      vienna    va      us    circle    0.083333   \n",
       "66515      edmond    ok      us     cigar   17.000000   \n",
       "\n",
       "                                                comments   latitude  \\\n",
       "0      This event took place in early fall around 194...  29.883056   \n",
       "1      My older brother and twin sister were leaving ...  28.978333   \n",
       "2      AS a Marine 1st Lt. flying an FJ4B fighter/att...  21.418056   \n",
       "3      My father is now 89 my brother 52 the girl wit...  36.595000   \n",
       "4      A bright orange color changing to reddish colo...  41.117500   \n",
       "...                                                  ...        ...   \n",
       "66511  Round from the distance/slowly changing colors...  36.165833   \n",
       "66512  Boise&#44 ID&#44 spherical&#44 20 min&#44 10 r...  43.613611   \n",
       "66513                                       Napa UFO&#44  38.297222   \n",
       "66514  Saw a five gold lit cicular craft moving fastl...  38.901111   \n",
       "66515  2 witnesses 2  miles apart&#44 Red &amp; White...  35.652778   \n",
       "\n",
       "        longitude        date      time  \n",
       "0      -97.941111  1949-10-10  20:30:00  \n",
       "1      -96.645833  1956-10-10  21:00:00  \n",
       "2     -157.803611  1960-10-10  20:00:00  \n",
       "3      -82.188889  1961-10-10  19:00:00  \n",
       "4      -73.408333  1965-10-10  23:45:00  \n",
       "...           ...         ...       ...  \n",
       "66511  -86.784444  2013-09-09  21:15:00  \n",
       "66512 -116.202500  2013-09-09  22:00:00  \n",
       "66513 -122.284444  2013-09-09  22:00:00  \n",
       "66514  -77.265556  2013-09-09  22:20:00  \n",
       "66515  -97.477778  2013-09-09  23:00:00  \n",
       "\n",
       "[66516 rows x 10 columns]"
      ]
     },
     "execution_count": 2,
     "metadata": {},
     "output_type": "execute_result"
    }
   ],
   "source": [
    "file_name = 'pre_processado.csv'\n",
    "\n",
    "df = pd.read_csv(file_name)\n",
    "df"
   ]
  },
  {
   "cell_type": "markdown",
   "metadata": {},
   "source": [
    "# Analisando os casos nos EUA"
   ]
  },
  {
   "cell_type": "markdown",
   "metadata": {},
   "source": [
    "### Aparencia"
   ]
  },
  {
   "cell_type": "code",
   "execution_count": 3,
   "metadata": {},
   "outputs": [],
   "source": [
    "df_us = df.loc[df['country'] == 'us']"
   ]
  },
  {
   "cell_type": "code",
   "execution_count": 4,
   "metadata": {},
   "outputs": [
    {
     "data": {
      "text/html": [
       "<div>\n",
       "<style scoped>\n",
       "    .dataframe tbody tr th:only-of-type {\n",
       "        vertical-align: middle;\n",
       "    }\n",
       "\n",
       "    .dataframe tbody tr th {\n",
       "        vertical-align: top;\n",
       "    }\n",
       "\n",
       "    .dataframe thead th {\n",
       "        text-align: right;\n",
       "    }\n",
       "</style>\n",
       "<table border=\"1\" class=\"dataframe\">\n",
       "  <thead>\n",
       "    <tr style=\"text-align: right;\">\n",
       "      <th></th>\n",
       "      <th>shape</th>\n",
       "    </tr>\n",
       "  </thead>\n",
       "  <tbody>\n",
       "    <tr>\n",
       "      <th>0</th>\n",
       "      <td>cylinder</td>\n",
       "    </tr>\n",
       "    <tr>\n",
       "      <th>1</th>\n",
       "      <td>circle</td>\n",
       "    </tr>\n",
       "    <tr>\n",
       "      <th>2</th>\n",
       "      <td>light</td>\n",
       "    </tr>\n",
       "    <tr>\n",
       "      <th>3</th>\n",
       "      <td>sphere</td>\n",
       "    </tr>\n",
       "    <tr>\n",
       "      <th>4</th>\n",
       "      <td>disk</td>\n",
       "    </tr>\n",
       "    <tr>\n",
       "      <th>...</th>\n",
       "      <td>...</td>\n",
       "    </tr>\n",
       "    <tr>\n",
       "      <th>66511</th>\n",
       "      <td>light</td>\n",
       "    </tr>\n",
       "    <tr>\n",
       "      <th>66512</th>\n",
       "      <td>circle</td>\n",
       "    </tr>\n",
       "    <tr>\n",
       "      <th>66513</th>\n",
       "      <td>unknown</td>\n",
       "    </tr>\n",
       "    <tr>\n",
       "      <th>66514</th>\n",
       "      <td>circle</td>\n",
       "    </tr>\n",
       "    <tr>\n",
       "      <th>66515</th>\n",
       "      <td>cigar</td>\n",
       "    </tr>\n",
       "  </tbody>\n",
       "</table>\n",
       "<p>63553 rows × 1 columns</p>\n",
       "</div>"
      ],
      "text/plain": [
       "          shape\n",
       "0      cylinder\n",
       "1        circle\n",
       "2         light\n",
       "3        sphere\n",
       "4          disk\n",
       "...         ...\n",
       "66511     light\n",
       "66512    circle\n",
       "66513   unknown\n",
       "66514    circle\n",
       "66515     cigar\n",
       "\n",
       "[63553 rows x 1 columns]"
      ]
     },
     "execution_count": 4,
     "metadata": {},
     "output_type": "execute_result"
    }
   ],
   "source": [
    "df_us_shapes = df_us[['shape']]\n",
    "df_us_shapes"
   ]
  },
  {
   "cell_type": "code",
   "execution_count": 5,
   "metadata": {},
   "outputs": [],
   "source": [
    "us_shapes = df_us_shapes.value_counts()"
   ]
  },
  {
   "cell_type": "code",
   "execution_count": 6,
   "metadata": {},
   "outputs": [
    {
     "data": {
      "text/plain": [
       "shape    \n",
       "light        21.198055\n",
       "unknown      14.214907\n",
       "triangle     10.312652\n",
       "circle        9.628184\n",
       "fireball      8.100326\n",
       "sphere        6.838387\n",
       "disk          6.484352\n",
       "oval          5.681872\n",
       "formation     3.131245\n",
       "cigar         2.585244\n",
       "changing      2.493981\n",
       "rectangle     1.683634\n",
       "flash         1.671046\n",
       "cylinder      1.614401\n",
       "diamond       1.460199\n",
       "chevron       1.282394\n",
       "teardrop      0.931506\n",
       "cone          0.388652\n",
       "cross         0.295816\n",
       "hexagon       0.001573\n",
       "pyramid       0.001573\n",
       "dtype: float64"
      ]
     },
     "execution_count": 6,
     "metadata": {},
     "output_type": "execute_result"
    }
   ],
   "source": [
    "us_shapes_pct = (us_shapes/len(df_us_shapes))*100\n",
    "us_shapes_pct"
   ]
  },
  {
   "cell_type": "code",
   "execution_count": 7,
   "metadata": {},
   "outputs": [
    {
     "data": {
      "text/plain": [
       "Text(0, 0.5, 'PORCENTAGEM DE AVISTAMENTOS')"
      ]
     },
     "execution_count": 7,
     "metadata": {},
     "output_type": "execute_result"
    },
    {
     "data": {
      "image/png": "[encoded data removed]",
      "text/plain": [
       "<Figure size 432x288 with 1 Axes>"
      ]
     },
     "metadata": {
      "needs_background": "light"
     },
     "output_type": "display_data"
    }
   ],
   "source": [
    "fig = us_shapes_pct.plot(kind='bar', title='UFOs Aparencia nos EUA')\n",
    "fig.set_xlabel(\"APARENCIA RELATADA\")\n",
    "fig.set_ylabel(\"PORCENTAGEM DE AVISTAMENTOS\")"
   ]
  },
  {
   "cell_type": "markdown",
   "metadata": {},
   "source": [
    "### tempo medio de avistamento"
   ]
  },
  {
   "cell_type": "code",
   "execution_count": 10,
   "metadata": {},
   "outputs": [
    {
     "data": {
      "text/html": [
       "<div>\n",
       "<style scoped>\n",
       "    .dataframe tbody tr th:only-of-type {\n",
       "        vertical-align: middle;\n",
       "    }\n",
       "\n",
       "    .dataframe tbody tr th {\n",
       "        vertical-align: top;\n",
       "    }\n",
       "\n",
       "    .dataframe thead th {\n",
       "        text-align: right;\n",
       "    }\n",
       "</style>\n",
       "<table border=\"1\" class=\"dataframe\">\n",
       "  <thead>\n",
       "    <tr style=\"text-align: right;\">\n",
       "      <th></th>\n",
       "      <th>duration_m</th>\n",
       "      <th>state</th>\n",
       "    </tr>\n",
       "  </thead>\n",
       "  <tbody>\n",
       "    <tr>\n",
       "      <th>0</th>\n",
       "      <td>45.000000</td>\n",
       "      <td>tx</td>\n",
       "    </tr>\n",
       "    <tr>\n",
       "      <th>1</th>\n",
       "      <td>0.333333</td>\n",
       "      <td>tx</td>\n",
       "    </tr>\n",
       "    <tr>\n",
       "      <th>2</th>\n",
       "      <td>15.000000</td>\n",
       "      <td>hi</td>\n",
       "    </tr>\n",
       "    <tr>\n",
       "      <th>3</th>\n",
       "      <td>5.000000</td>\n",
       "      <td>tn</td>\n",
       "    </tr>\n",
       "    <tr>\n",
       "      <th>4</th>\n",
       "      <td>20.000000</td>\n",
       "      <td>ct</td>\n",
       "    </tr>\n",
       "  </tbody>\n",
       "</table>\n",
       "</div>"
      ],
      "text/plain": [
       "   duration_m state\n",
       "0   45.000000    tx\n",
       "1    0.333333    tx\n",
       "2   15.000000    hi\n",
       "3    5.000000    tn\n",
       "4   20.000000    ct"
      ]
     },
     "execution_count": 10,
     "metadata": {},
     "output_type": "execute_result"
    }
   ],
   "source": [
    "df_us_duration = df_us[['duration_m', 'state']]\n",
    "df_us_duration.head()"
   ]
  },
  {
   "cell_type": "code",
   "execution_count": 11,
   "metadata": {},
   "outputs": [
    {
     "data": {
      "text/plain": [
       "92.12292243743846"
      ]
     },
     "execution_count": 11,
     "metadata": {},
     "output_type": "execute_result"
    }
   ],
   "source": [
    "duration_mean = df_us_duration['duration_m'].mean()\n",
    "duration_mean"
   ]
  },
  {
   "cell_type": "code",
   "execution_count": 13,
   "metadata": {},
   "outputs": [
    {
     "data": {
      "text/plain": [
       "state\n",
       "ak      78.020525\n",
       "al      23.859393\n",
       "ar    1931.549726\n",
       "az     109.042440\n",
       "ca      47.728457\n",
       "co      23.149326\n",
       "ct      59.929071\n",
       "dc       3.917857\n",
       "de      14.441364\n",
       "fl     248.179742\n",
       "ga     128.473389\n",
       "hi     436.607328\n",
       "ia      15.285899\n",
       "id      15.592858\n",
       "il      14.534281\n",
       "in      53.002047\n",
       "ks      23.108472\n",
       "ky      67.922054\n",
       "la     207.771846\n",
       "ma      21.578635\n",
       "md      14.019444\n",
       "me      20.051376\n",
       "mi      17.734598\n",
       "mn      23.139263\n",
       "mo      18.806648\n",
       "ms     153.835824\n",
       "mt      38.065181\n",
       "nc      19.906295\n",
       "nd      19.007317\n",
       "ne      18.425112\n",
       "nh      37.095384\n",
       "nj     104.975378\n",
       "nm      97.529668\n",
       "nv      51.272792\n",
       "ny      50.875641\n",
       "oh      24.322026\n",
       "ok      19.913919\n",
       "or      17.742704\n",
       "pa      65.476175\n",
       "pr      18.194444\n",
       "ri      35.186049\n",
       "sc      18.417289\n",
       "sd      45.231497\n",
       "tn      28.330680\n",
       "tx      41.417693\n",
       "ut      93.234152\n",
       "va     181.714490\n",
       "vt      17.374377\n",
       "wa     254.557906\n",
       "wi      32.140378\n",
       "wv     113.198364\n",
       "wy      24.797140\n",
       "Name: duration_m, dtype: float64"
      ]
     },
     "execution_count": 13,
     "metadata": {},
     "output_type": "execute_result"
    }
   ],
   "source": [
    "duration_mean_state = df_us_duration.groupby(['state'])['duration_m'].mean()\n",
    "duration_mean_state"
   ]
  },
  {
   "cell_type": "code",
   "execution_count": null,
   "metadata": {},
   "outputs": [],
   "source": []
  }
 ],
 "metadata": {
  "kernelspec": {
   "display_name": "Python 3",
   "language": "python",
   "name": "python3"
  },
  "language_info": {
   "codemirror_mode": {
    "name": "ipython",
    "version": 3
   },
   "file_extension": ".py",
   "mimetype": "text/x-python",
   "name": "python",
   "nbconvert_exporter": "python",
   "pygments_lexer": "ipython3",
   "version": "3.8.5"
  }
 },
 "nbformat": 4,
 "nbformat_minor": 4
}
