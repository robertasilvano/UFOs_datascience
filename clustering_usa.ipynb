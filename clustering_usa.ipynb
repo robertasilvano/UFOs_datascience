{
 "cells": [
  {
   "cell_type": "code",
   "execution_count": 126,
   "metadata": {},
   "outputs": [],
   "source": [
    "import pandas as pd\n",
    "import numpy as np\n",
    "from sklearn.cluster import KMeans\n",
    "import matplotlib.pyplot as plt\n",
    "from sklearn.preprocessing import MinMaxScaler\n",
    "from geopy.geocoders import Nominatim\n",
    "from geopy.extra.rate_limiter import RateLimiter"
   ]
  },
  {
   "cell_type": "code",
   "execution_count": 127,
   "metadata": {},
   "outputs": [],
   "source": [
    "file_name = 'pre_processado_completo.csv'\n",
    "\n",
    "df = pd.read_csv(file_name, header=0, error_bad_lines=False, warn_bad_lines=False)"
   ]
  },
  {
   "cell_type": "code",
   "execution_count": 128,
   "metadata": {},
   "outputs": [
    {
     "data": {
      "text/html": [
       "<div>\n",
       "<style scoped>\n",
       "    .dataframe tbody tr th:only-of-type {\n",
       "        vertical-align: middle;\n",
       "    }\n",
       "\n",
       "    .dataframe tbody tr th {\n",
       "        vertical-align: top;\n",
       "    }\n",
       "\n",
       "    .dataframe thead th {\n",
       "        text-align: right;\n",
       "    }\n",
       "</style>\n",
       "<table border=\"1\" class=\"dataframe\">\n",
       "  <thead>\n",
       "    <tr style=\"text-align: right;\">\n",
       "      <th></th>\n",
       "      <th>city</th>\n",
       "      <th>state</th>\n",
       "      <th>country</th>\n",
       "      <th>shape</th>\n",
       "      <th>duration_m</th>\n",
       "      <th>comments</th>\n",
       "      <th>latitude</th>\n",
       "      <th>longitude</th>\n",
       "      <th>date</th>\n",
       "    </tr>\n",
       "  </thead>\n",
       "  <tbody>\n",
       "    <tr>\n",
       "      <th>0</th>\n",
       "      <td>san marcos</td>\n",
       "      <td>tx</td>\n",
       "      <td>us</td>\n",
       "      <td>cylinder</td>\n",
       "      <td>45.000000</td>\n",
       "      <td>This event took place in early fall around 194...</td>\n",
       "      <td>29.883056</td>\n",
       "      <td>-97.941111</td>\n",
       "      <td>1949-10-10</td>\n",
       "    </tr>\n",
       "    <tr>\n",
       "      <th>1</th>\n",
       "      <td>lackland afb</td>\n",
       "      <td>tx</td>\n",
       "      <td>NaN</td>\n",
       "      <td>light</td>\n",
       "      <td>120.000000</td>\n",
       "      <td>1949 Lackland AFB&amp;#44 TX.  Lights racing acros...</td>\n",
       "      <td>29.384210</td>\n",
       "      <td>-98.581082</td>\n",
       "      <td>1949-10-10</td>\n",
       "    </tr>\n",
       "    <tr>\n",
       "      <th>2</th>\n",
       "      <td>chester (uk/england)</td>\n",
       "      <td>NaN</td>\n",
       "      <td>gb</td>\n",
       "      <td>circle</td>\n",
       "      <td>0.333333</td>\n",
       "      <td>Green/Orange circular disc over Chester&amp;#44 En...</td>\n",
       "      <td>53.200000</td>\n",
       "      <td>-2.916667</td>\n",
       "      <td>1955-10-10</td>\n",
       "    </tr>\n",
       "    <tr>\n",
       "      <th>3</th>\n",
       "      <td>edna</td>\n",
       "      <td>tx</td>\n",
       "      <td>us</td>\n",
       "      <td>circle</td>\n",
       "      <td>0.333333</td>\n",
       "      <td>My older brother and twin sister were leaving ...</td>\n",
       "      <td>28.978333</td>\n",
       "      <td>-96.645833</td>\n",
       "      <td>1956-10-10</td>\n",
       "    </tr>\n",
       "    <tr>\n",
       "      <th>4</th>\n",
       "      <td>kaneohe</td>\n",
       "      <td>hi</td>\n",
       "      <td>us</td>\n",
       "      <td>light</td>\n",
       "      <td>15.000000</td>\n",
       "      <td>AS a Marine 1st Lt. flying an FJ4B fighter/att...</td>\n",
       "      <td>21.418056</td>\n",
       "      <td>-157.803611</td>\n",
       "      <td>1960-10-10</td>\n",
       "    </tr>\n",
       "  </tbody>\n",
       "</table>\n",
       "</div>"
      ],
      "text/plain": [
       "                   city state country     shape  duration_m  \\\n",
       "0            san marcos    tx      us  cylinder   45.000000   \n",
       "1          lackland afb    tx     NaN     light  120.000000   \n",
       "2  chester (uk/england)   NaN      gb    circle    0.333333   \n",
       "3                  edna    tx      us    circle    0.333333   \n",
       "4               kaneohe    hi      us     light   15.000000   \n",
       "\n",
       "                                            comments   latitude   longitude  \\\n",
       "0  This event took place in early fall around 194...  29.883056  -97.941111   \n",
       "1  1949 Lackland AFB&#44 TX.  Lights racing acros...  29.384210  -98.581082   \n",
       "2  Green/Orange circular disc over Chester&#44 En...  53.200000   -2.916667   \n",
       "3  My older brother and twin sister were leaving ...  28.978333  -96.645833   \n",
       "4  AS a Marine 1st Lt. flying an FJ4B fighter/att...  21.418056 -157.803611   \n",
       "\n",
       "         date  \n",
       "0  1949-10-10  \n",
       "1  1949-10-10  \n",
       "2  1955-10-10  \n",
       "3  1956-10-10  \n",
       "4  1960-10-10  "
      ]
     },
     "execution_count": 128,
     "metadata": {},
     "output_type": "execute_result"
    }
   ],
   "source": [
    "df.head()"
   ]
  },
  {
   "cell_type": "code",
   "execution_count": 129,
   "metadata": {},
   "outputs": [
    {
     "data": {
      "text/html": [
       "<div>\n",
       "<style scoped>\n",
       "    .dataframe tbody tr th:only-of-type {\n",
       "        vertical-align: middle;\n",
       "    }\n",
       "\n",
       "    .dataframe tbody tr th {\n",
       "        vertical-align: top;\n",
       "    }\n",
       "\n",
       "    .dataframe thead th {\n",
       "        text-align: right;\n",
       "    }\n",
       "</style>\n",
       "<table border=\"1\" class=\"dataframe\">\n",
       "  <thead>\n",
       "    <tr style=\"text-align: right;\">\n",
       "      <th></th>\n",
       "      <th>city</th>\n",
       "      <th>state</th>\n",
       "      <th>country</th>\n",
       "      <th>shape</th>\n",
       "      <th>duration_m</th>\n",
       "      <th>comments</th>\n",
       "      <th>latitude</th>\n",
       "      <th>longitude</th>\n",
       "      <th>date</th>\n",
       "    </tr>\n",
       "  </thead>\n",
       "  <tbody>\n",
       "    <tr>\n",
       "      <th>0</th>\n",
       "      <td>san marcos</td>\n",
       "      <td>tx</td>\n",
       "      <td>us</td>\n",
       "      <td>cylinder</td>\n",
       "      <td>45.000000</td>\n",
       "      <td>This event took place in early fall around 194...</td>\n",
       "      <td>29.883056</td>\n",
       "      <td>-97.941111</td>\n",
       "      <td>1949-10-10</td>\n",
       "    </tr>\n",
       "    <tr>\n",
       "      <th>3</th>\n",
       "      <td>edna</td>\n",
       "      <td>tx</td>\n",
       "      <td>us</td>\n",
       "      <td>circle</td>\n",
       "      <td>0.333333</td>\n",
       "      <td>My older brother and twin sister were leaving ...</td>\n",
       "      <td>28.978333</td>\n",
       "      <td>-96.645833</td>\n",
       "      <td>1956-10-10</td>\n",
       "    </tr>\n",
       "    <tr>\n",
       "      <th>4</th>\n",
       "      <td>kaneohe</td>\n",
       "      <td>hi</td>\n",
       "      <td>us</td>\n",
       "      <td>light</td>\n",
       "      <td>15.000000</td>\n",
       "      <td>AS a Marine 1st Lt. flying an FJ4B fighter/att...</td>\n",
       "      <td>21.418056</td>\n",
       "      <td>-157.803611</td>\n",
       "      <td>1960-10-10</td>\n",
       "    </tr>\n",
       "    <tr>\n",
       "      <th>5</th>\n",
       "      <td>bristol</td>\n",
       "      <td>tn</td>\n",
       "      <td>us</td>\n",
       "      <td>sphere</td>\n",
       "      <td>5.000000</td>\n",
       "      <td>My father is now 89 my brother 52 the girl wit...</td>\n",
       "      <td>36.595000</td>\n",
       "      <td>-82.188889</td>\n",
       "      <td>1961-10-10</td>\n",
       "    </tr>\n",
       "    <tr>\n",
       "      <th>7</th>\n",
       "      <td>norwalk</td>\n",
       "      <td>ct</td>\n",
       "      <td>us</td>\n",
       "      <td>disk</td>\n",
       "      <td>20.000000</td>\n",
       "      <td>A bright orange color changing to reddish colo...</td>\n",
       "      <td>41.117500</td>\n",
       "      <td>-73.408333</td>\n",
       "      <td>1965-10-10</td>\n",
       "    </tr>\n",
       "  </tbody>\n",
       "</table>\n",
       "</div>"
      ],
      "text/plain": [
       "         city state country     shape  duration_m  \\\n",
       "0  san marcos    tx      us  cylinder   45.000000   \n",
       "3        edna    tx      us    circle    0.333333   \n",
       "4     kaneohe    hi      us     light   15.000000   \n",
       "5     bristol    tn      us    sphere    5.000000   \n",
       "7     norwalk    ct      us      disk   20.000000   \n",
       "\n",
       "                                            comments   latitude   longitude  \\\n",
       "0  This event took place in early fall around 194...  29.883056  -97.941111   \n",
       "3  My older brother and twin sister were leaving ...  28.978333  -96.645833   \n",
       "4  AS a Marine 1st Lt. flying an FJ4B fighter/att...  21.418056 -157.803611   \n",
       "5  My father is now 89 my brother 52 the girl wit...  36.595000  -82.188889   \n",
       "7  A bright orange color changing to reddish colo...  41.117500  -73.408333   \n",
       "\n",
       "         date  \n",
       "0  1949-10-10  \n",
       "3  1956-10-10  \n",
       "4  1960-10-10  \n",
       "5  1961-10-10  \n",
       "7  1965-10-10  "
      ]
     },
     "execution_count": 129,
     "metadata": {},
     "output_type": "execute_result"
    }
   ],
   "source": [
    "# limita o df aos USA\n",
    "\n",
    "df_us = df.loc[df['country'] == 'us']\n",
    "df_us.head()"
   ]
  },
  {
   "cell_type": "code",
   "execution_count": 130,
   "metadata": {},
   "outputs": [
    {
     "name": "stdout",
     "output_type": "stream",
     "text": [
      "70290\n",
      "[[ -97.9411111   29.8830556]\n",
      " [ -96.6458333   28.9783333]\n",
      " [-157.8036111   21.4180556]\n",
      " ...\n",
      " [ -97.4777778   35.6527778]\n",
      " [ -82.6958333   34.3769444]\n",
      " [ -80.1436111   26.1219444]]\n"
     ]
    }
   ],
   "source": [
    "# define um array com as latitudes e longitudes\n",
    "\n",
    "lat_lon = np.array(df_us[['longitude', 'latitude']]).astype(float)\n",
    "print(len(lat_lon))\n",
    "print(lat_lon)"
   ]
  },
  {
   "cell_type": "code",
   "execution_count": 131,
   "metadata": {},
   "outputs": [],
   "source": [
    "# define uma lista com os estados, e calcula o peso de cada estado de acordo com a quantidade de avistamentos, pelo método count\n",
    "\n",
    "states = list(df_us['state'])\n",
    "pesos = [states.count(s) for s in states]"
   ]
  },
  {
   "cell_type": "code",
   "execution_count": 132,
   "metadata": {},
   "outputs": [],
   "source": [
    "scaler = MinMaxScaler()"
   ]
  },
  {
   "cell_type": "code",
   "execution_count": 134,
   "metadata": {},
   "outputs": [
    {
     "data": {
      "image/png": "[encoded data removed]",
      "text/plain": [
       "<Figure size 432x288 with 1 Axes>"
      ]
     },
     "metadata": {
      "needs_background": "light"
     },
     "output_type": "display_data"
    }
   ],
   "source": [
    "# aplica o elbow criteria\n",
    "\n",
    "sse = {}\n",
    "for k in range(2, 50):\n",
    "    kmeans = KMeans(n_clusters=k, max_iter=2000).fit(scaler.fit_transform(lat_lon), sample_weight=pesos)\n",
    "    sse[k] = kmeans.inertia_\n",
    "plt.figure()\n",
    "plt.plot(list(sse.keys()), list(sse.values()))\n",
    "plt.xlabel(\"Number of cluster\")\n",
    "plt.ylabel(\"SSE\")\n",
    "plt.show()"
   ]
  },
  {
   "cell_type": "markdown",
   "metadata": {},
   "source": [
    "### De acordo com o Elbow Criteria o número adequado de clusters é em torno de 20"
   ]
  },
  {
   "cell_type": "code",
   "execution_count": null,
   "metadata": {},
   "outputs": [],
   "source": [
    "# aplica o coeficiente de silhouette\n",
    "\n",
    "for k in range(2, 50):\n",
    "    kmeans = KMeans(n_clusters=k, max_iter=2000).fit(scaler.fit_transform(lat_lon))\n",
    "    label = kmeans.labels_\n",
    "    sil_coeff = metrics.silhouette_score(scaler.fit_transform(lat_lon), label, metric='euclidean')\n",
    "    print(\"Para n_clusters={}, o coeficiente de  Silhouette {}\".format(k, sil_coeff))"
   ]
  },
  {
   "cell_type": "markdown",
   "metadata": {},
   "source": [
    "### De acordo com o Score Silhouette o número adequado de clusters é em torno de ????"
   ]
  },
  {
   "cell_type": "code",
   "execution_count": 15,
   "metadata": {},
   "outputs": [
    {
     "data": {
      "text/plain": [
       "array([[0.71027257, 0.22622871],\n",
       "       [0.72196002, 0.20905126],\n",
       "       [0.17012595, 0.06550849],\n",
       "       ...,\n",
       "       [0.71445329, 0.3357752 ],\n",
       "       [0.84783257, 0.31155167],\n",
       "       [0.87086158, 0.1548186 ]])"
      ]
     },
     "execution_count": 15,
     "metadata": {},
     "output_type": "execute_result"
    }
   ],
   "source": [
    "# aplica o algoritmo kmeans, utilizando os pesos e normalizando os valores\n",
    "\n",
    "kmeans = KMeans(n_clusters=20, max_iter=2000)\n",
    "kmeans.fit(scaler.fit_transform(lat_lon), sample_weight=pesos)\n",
    "lat_lon_scaled = np.array(scaler.fit_transform(lat_lon))\n",
    "lat_lon_scaled"
   ]
  },
  {
   "cell_type": "code",
   "execution_count": 18,
   "metadata": {},
   "outputs": [
    {
     "data": {
      "text/plain": [
       "array([[0.51518883, 0.34542808],\n",
       "       [0.84772906, 0.43254574],\n",
       "       [0.84024079, 0.23247253],\n",
       "       [0.49581215, 0.55404579],\n",
       "       [0.63568916, 0.41355253],\n",
       "       [0.87718479, 0.33407333],\n",
       "       [0.17405701, 0.05880549],\n",
       "       [0.77209247, 0.39443242],\n",
       "       [0.24874659, 0.83319218],\n",
       "       [0.91729518, 0.42597836],\n",
       "       [0.86076977, 0.17647276],\n",
       "       [0.71508855, 0.28731735],\n",
       "       [0.79462413, 0.47215248],\n",
       "       [0.58936401, 0.29409927],\n",
       "       [0.92293489, 0.46909269],\n",
       "       [0.49043043, 0.44023292],\n",
       "       [0.72072319, 0.22238253],\n",
       "       [0.82184151, 0.32117587],\n",
       "       [0.49489956, 0.38113285],\n",
       "       [0.53095956, 0.30077437]])"
      ]
     },
     "execution_count": 18,
     "metadata": {},
     "output_type": "execute_result"
    }
   ],
   "source": [
    "centers = kmeans.cluster_centers_\n",
    "centers"
   ]
  },
  {
   "cell_type": "code",
   "execution_count": 19,
   "metadata": {},
   "outputs": [
    {
     "name": "stdout",
     "output_type": "stream",
     "text": [
      "70290\n"
     ]
    },
    {
     "data": {
      "text/plain": [
       "array([16., 16.,  6., ..., 11., 17., 10.])"
      ]
     },
     "execution_count": 19,
     "metadata": {},
     "output_type": "execute_result"
    }
   ],
   "source": [
    "locations = kmeans.labels_.astype(float)\n",
    "print(len(locations))\n",
    "locations"
   ]
  },
  {
   "cell_type": "code",
   "execution_count": 20,
   "metadata": {},
   "outputs": [
    {
     "data": {
      "text/plain": [
       "Text(0, 0.5, 'Longitude')"
      ]
     },
     "execution_count": 20,
     "metadata": {},
     "output_type": "execute_result"
    },
    {
     "data": {
      "image/png": "[encoded data removed]",
      "text/plain": [
       "<Figure size 1080x720 with 1 Axes>"
      ]
     },
     "metadata": {
      "needs_background": "light"
     },
     "output_type": "display_data"
    }
   ],
   "source": [
    "fig , ax = plt.subplots(figsize=(15, 10))\n",
    "scatter = ax.scatter(lat_lon_scaled[:, 0], lat_lon_scaled[:, 1], c=pesos, cmap='rainbow')\n",
    "ax.scatter(centers[:, 0], centers[:, 1], c='black', s=100)\n",
    "fig.suptitle('Locais de avistamento nos EUA')\n",
    "plt.xlabel('Latitude')\n",
    "plt.ylabel('Longitude')"
   ]
  },
  {
   "cell_type": "code",
   "execution_count": 63,
   "metadata": {},
   "outputs": [
    {
     "ename": "TypeError",
     "evalue": "__init__() got an unexpected keyword argument 'addressdetails'",
     "output_type": "error",
     "traceback": [
      "\u001b[1;31m---------------------------------------------------------------------------\u001b[0m",
      "\u001b[1;31mTypeError\u001b[0m                                 Traceback (most recent call last)",
      "\u001b[1;32m<ipython-input-63-c5b9205a5105>\u001b[0m in \u001b[0;36m<module>\u001b[1;34m\u001b[0m\n\u001b[0;32m      1\u001b[0m \u001b[0mgeolocator\u001b[0m \u001b[1;33m=\u001b[0m \u001b[0mNominatim\u001b[0m\u001b[1;33m(\u001b[0m\u001b[0muser_agent\u001b[0m\u001b[1;33m=\u001b[0m\u001b[1;34m\"geoapiExercises\"\u001b[0m\u001b[1;33m)\u001b[0m\u001b[1;33m\u001b[0m\u001b[1;33m\u001b[0m\u001b[0m\n\u001b[0;32m      2\u001b[0m \u001b[0mgeocode\u001b[0m \u001b[1;33m=\u001b[0m \u001b[0mRateLimiter\u001b[0m\u001b[1;33m(\u001b[0m\u001b[0mgeolocator\u001b[0m\u001b[1;33m.\u001b[0m\u001b[0mgeocode\u001b[0m\u001b[1;33m,\u001b[0m \u001b[0mmin_delay_seconds\u001b[0m\u001b[1;33m=\u001b[0m\u001b[1;36m1\u001b[0m\u001b[1;33m)\u001b[0m\u001b[1;33m\u001b[0m\u001b[1;33m\u001b[0m\u001b[0m\n\u001b[1;32m----> 3\u001b[1;33m \u001b[0mreverse\u001b[0m \u001b[1;33m=\u001b[0m \u001b[0mRateLimiter\u001b[0m\u001b[1;33m(\u001b[0m\u001b[0mgeolocator\u001b[0m\u001b[1;33m.\u001b[0m\u001b[0mreverse\u001b[0m\u001b[1;33m,\u001b[0m \u001b[0mmin_delay_seconds\u001b[0m\u001b[1;33m=\u001b[0m\u001b[1;36m1\u001b[0m\u001b[1;33m,\u001b[0m \u001b[0maddressdetails\u001b[0m\u001b[1;33m=\u001b[0m\u001b[1;32mTrue\u001b[0m\u001b[1;33m)\u001b[0m\u001b[1;33m\u001b[0m\u001b[1;33m\u001b[0m\u001b[0m\n\u001b[0m",
      "\u001b[1;31mTypeError\u001b[0m: __init__() got an unexpected keyword argument 'addressdetails'"
     ]
    }
   ],
   "source": [
    "geolocator = Nominatim(user_agent=\"geoapiExercises\")\n",
    "geocode = RateLimiter(geolocator.geocode, min_delay_seconds=1)\n",
    "reverse = RateLimiter(geolocator.reverse, min_delay_seconds=1)"
   ]
  },
  {
   "cell_type": "code",
   "execution_count": 23,
   "metadata": {},
   "outputs": [
    {
     "data": {
      "text/plain": [
       "array([[-119.56153794,   36.16118668],\n",
       "       [ -82.70730535,   40.74960135],\n",
       "       [ -83.53720301,   30.21191234],\n",
       "       [-121.70898497,   47.14890771],\n",
       "       [-106.2069214 ,   39.74924478],\n",
       "       [ -79.44283246,   35.56314143],\n",
       "       [-157.36794584,   21.06501408],\n",
       "       [ -91.0898349 ,   38.74220456],\n",
       "       [-149.09036953,   61.85131567],\n",
       "       [ -74.9975436 ,   40.40370313],\n",
       "       [ -81.26205041,   27.26245108],\n",
       "       [ -97.40737335,   33.10054313],\n",
       "       [ -88.59273316,   42.8356555 ],\n",
       "       [-111.34097009,   33.45774136],\n",
       "       [ -74.37251406,   42.67449873],\n",
       "       [-122.30542224,   41.15447892],\n",
       "       [ -96.78290669,   29.68048019],\n",
       "       [ -85.57632829,   34.88384326],\n",
       "       [-121.81012461,   38.04172726],\n",
       "       [-117.81372446,   33.80931335]])"
      ]
     },
     "execution_count": 23,
     "metadata": {},
     "output_type": "execute_result"
    }
   ],
   "source": [
    "centers_notscaled = scaler.inverse_transform(centers)\n",
    "df_centers_notscaled = pd.DataFrame(centers_notscaled, columns=['lon', 'lat'])\n",
    "df_centers_notscaled"
   ]
  },
  {
   "cell_type": "code",
   "execution_count": 25,
   "metadata": {},
   "outputs": [
    {
     "data": {
      "text/plain": [
       "[(36.16118668, -119.56153794),\n",
       " (40.74960135, -82.70730535),\n",
       " (30.21191234, -83.53720301),\n",
       " (47.14890771, -121.70898497),\n",
       " (39.74924478, -106.2069214),\n",
       " (35.56314143, -79.44283246),\n",
       " (21.06501408, -157.36794584),\n",
       " (38.74220456, -91.0898349),\n",
       " (61.85131567, -149.09036953),\n",
       " (40.40370313, -74.9975436),\n",
       " (27.26245108, -81.26205041),\n",
       " (33.10054313, -97.40737335),\n",
       " (42.8356555, -88.59273316),\n",
       " (33.45774136, -111.34097009),\n",
       " (42.67449873, -74.37251406),\n",
       " (41.15447892, -122.30542224),\n",
       " (29.68048019, -96.78290669),\n",
       " (34.88384326, -85.57632829),\n",
       " (38.04172726, -121.81012461),\n",
       " (33.80931335, -117.81372446)]"
      ]
     },
     "execution_count": 25,
     "metadata": {},
     "output_type": "execute_result"
    }
   ],
   "source": [
    "centers_notscaled = df_centers[['lat', 'lon']]\n",
    "centers_notscaled = centers_notscaled.to_records(index=False)\n",
    "centers_notscaled = list(centers_notscaled)\n",
    "centers_notscaled"
   ]
  },
  {
   "cell_type": "code",
   "execution_count": 26,
   "metadata": {},
   "outputs": [],
   "source": [
    "locations = [reverse(loc) for loc in centers_notscaled if loc]"
   ]
  },
  {
   "cell_type": "code",
   "execution_count": 125,
   "metadata": {},
   "outputs": [
    {
     "data": {
      "text/html": [
       "<div>\n",
       "<style scoped>\n",
       "    .dataframe tbody tr th:only-of-type {\n",
       "        vertical-align: middle;\n",
       "    }\n",
       "\n",
       "    .dataframe tbody tr th {\n",
       "        vertical-align: top;\n",
       "    }\n",
       "\n",
       "    .dataframe thead th {\n",
       "        text-align: right;\n",
       "    }\n",
       "</style>\n",
       "<table border=\"1\" class=\"dataframe\">\n",
       "  <thead>\n",
       "    <tr style=\"text-align: right;\">\n",
       "      <th></th>\n",
       "      <th>Endereço</th>\n",
       "      <th>Latitude e Longitude</th>\n",
       "    </tr>\n",
       "  </thead>\n",
       "  <tbody>\n",
       "    <tr>\n",
       "      <th>0</th>\n",
       "      <td>6th Avenue, Kings County, California, 93212, U...</td>\n",
       "      <td>(36.16116210297419, -119.56487767846191)</td>\n",
       "    </tr>\n",
       "    <tr>\n",
       "      <th>1</th>\n",
       "      <td>Lime Road, Sandusky Township, Richland County,...</td>\n",
       "      <td>(40.74771451404237, -82.70729790537851)</td>\n",
       "    </tr>\n",
       "    <tr>\n",
       "      <th>2</th>\n",
       "      <td>Taylor County, Florida, United States</td>\n",
       "      <td>(30.0926733, -83.6377926)</td>\n",
       "    </tr>\n",
       "    <tr>\n",
       "      <th>3</th>\n",
       "      <td>Weyerhaeuser Mainline Rd, Greenwater, King Cou...</td>\n",
       "      <td>(47.14957555792047, -121.70901382647088)</td>\n",
       "    </tr>\n",
       "    <tr>\n",
       "      <th>4</th>\n",
       "      <td>Slate Creek Trail, Summit County, Colorado, Un...</td>\n",
       "      <td>(39.750193, -106.207856)</td>\n",
       "    </tr>\n",
       "    <tr>\n",
       "      <th>5</th>\n",
       "      <td>110, Carl Scott Road, Chatham County, North Ca...</td>\n",
       "      <td>(35.5610009, -79.4432619)</td>\n",
       "    </tr>\n",
       "    <tr>\n",
       "      <th>6</th>\n",
       "      <td>United States</td>\n",
       "      <td>(39.7837304, -100.4458825)</td>\n",
       "    </tr>\n",
       "    <tr>\n",
       "      <th>7</th>\n",
       "      <td>Alpine Woods Drive, Innsbrook, Warren County, ...</td>\n",
       "      <td>(38.7429755, -91.0895401)</td>\n",
       "    </tr>\n",
       "    <tr>\n",
       "      <th>8</th>\n",
       "      <td>Fishhook, Matanuska-Susitna, Alaska, United St...</td>\n",
       "      <td>(61.7557835, -149.2406783840539)</td>\n",
       "    </tr>\n",
       "    <tr>\n",
       "      <th>9</th>\n",
       "      <td>3117, River Road, Center Bridge, Solebury Town...</td>\n",
       "      <td>(40.404575384385424, -74.99745865616164)</td>\n",
       "    </tr>\n",
       "    <tr>\n",
       "      <th>10</th>\n",
       "      <td>Highlands County, Florida, United States</td>\n",
       "      <td>(27.3513186, -81.3615717)</td>\n",
       "    </tr>\n",
       "    <tr>\n",
       "      <th>11</th>\n",
       "      <td>320, Pr 4720, New Fairview, Wise County, Texas...</td>\n",
       "      <td>(33.100521305383225, -97.40787710317329)</td>\n",
       "    </tr>\n",
       "    <tr>\n",
       "      <th>12</th>\n",
       "      <td>Bluff Road, Little Prairie, Walworth County, W...</td>\n",
       "      <td>(42.83558852170594, -88.5927344663385)</td>\n",
       "    </tr>\n",
       "    <tr>\n",
       "      <th>13</th>\n",
       "      <td>Peters Trail #105, Pinal County, Arizona, Unit...</td>\n",
       "      <td>(33.457412439865564, -111.34100431303618)</td>\n",
       "    </tr>\n",
       "    <tr>\n",
       "      <th>14</th>\n",
       "      <td>Schoharie Hill Road, Town of Schoharie, Schoha...</td>\n",
       "      <td>(42.67666698422518, -74.37203109105658)</td>\n",
       "    </tr>\n",
       "    <tr>\n",
       "      <th>15</th>\n",
       "      <td>Vista Point Trail, Shasta County, California, ...</td>\n",
       "      <td>(41.15445129048393, -122.30519308040789)</td>\n",
       "    </tr>\n",
       "    <tr>\n",
       "      <th>16</th>\n",
       "      <td>County Road 240, Weimar, Colorado County, Texa...</td>\n",
       "      <td>(29.680526901017306, -96.78417372254314)</td>\n",
       "    </tr>\n",
       "    <tr>\n",
       "      <th>17</th>\n",
       "      <td>20, Emma Lane, Dade County, Georgia, 30752, Un...</td>\n",
       "      <td>(34.88398582504813, -85.5756905155272)</td>\n",
       "    </tr>\n",
       "    <tr>\n",
       "      <th>18</th>\n",
       "      <td>Lower Sherman Island Wildlife Area, Sherman Is...</td>\n",
       "      <td>(38.0432287, -121.81033308215021)</td>\n",
       "    </tr>\n",
       "    <tr>\n",
       "      <th>19</th>\n",
       "      <td>Villa Park Elementary School, 10551, Center St...</td>\n",
       "      <td>(33.8091181, -117.81451622252598)</td>\n",
       "    </tr>\n",
       "  </tbody>\n",
       "</table>\n",
       "</div>"
      ],
      "text/plain": [
       "                                             Endereço  \\\n",
       "0   6th Avenue, Kings County, California, 93212, U...   \n",
       "1   Lime Road, Sandusky Township, Richland County,...   \n",
       "2               Taylor County, Florida, United States   \n",
       "3   Weyerhaeuser Mainline Rd, Greenwater, King Cou...   \n",
       "4   Slate Creek Trail, Summit County, Colorado, Un...   \n",
       "5   110, Carl Scott Road, Chatham County, North Ca...   \n",
       "6                                       United States   \n",
       "7   Alpine Woods Drive, Innsbrook, Warren County, ...   \n",
       "8   Fishhook, Matanuska-Susitna, Alaska, United St...   \n",
       "9   3117, River Road, Center Bridge, Solebury Town...   \n",
       "10           Highlands County, Florida, United States   \n",
       "11  320, Pr 4720, New Fairview, Wise County, Texas...   \n",
       "12  Bluff Road, Little Prairie, Walworth County, W...   \n",
       "13  Peters Trail #105, Pinal County, Arizona, Unit...   \n",
       "14  Schoharie Hill Road, Town of Schoharie, Schoha...   \n",
       "15  Vista Point Trail, Shasta County, California, ...   \n",
       "16  County Road 240, Weimar, Colorado County, Texa...   \n",
       "17  20, Emma Lane, Dade County, Georgia, 30752, Un...   \n",
       "18  Lower Sherman Island Wildlife Area, Sherman Is...   \n",
       "19  Villa Park Elementary School, 10551, Center St...   \n",
       "\n",
       "                         Latitude e Longitude  \n",
       "0    (36.16116210297419, -119.56487767846191)  \n",
       "1     (40.74771451404237, -82.70729790537851)  \n",
       "2                   (30.0926733, -83.6377926)  \n",
       "3    (47.14957555792047, -121.70901382647088)  \n",
       "4                    (39.750193, -106.207856)  \n",
       "5                   (35.5610009, -79.4432619)  \n",
       "6                  (39.7837304, -100.4458825)  \n",
       "7                   (38.7429755, -91.0895401)  \n",
       "8            (61.7557835, -149.2406783840539)  \n",
       "9    (40.404575384385424, -74.99745865616164)  \n",
       "10                  (27.3513186, -81.3615717)  \n",
       "11   (33.100521305383225, -97.40787710317329)  \n",
       "12     (42.83558852170594, -88.5927344663385)  \n",
       "13  (33.457412439865564, -111.34100431303618)  \n",
       "14    (42.67666698422518, -74.37203109105658)  \n",
       "15   (41.15445129048393, -122.30519308040789)  \n",
       "16   (29.680526901017306, -96.78417372254314)  \n",
       "17     (34.88398582504813, -85.5756905155272)  \n",
       "18          (38.0432287, -121.81033308215021)  \n",
       "19          (33.8091181, -117.81451622252598)  "
      ]
     },
     "execution_count": 125,
     "metadata": {},
     "output_type": "execute_result"
    }
   ],
   "source": [
    "df_locations = pd.DataFrame(locations)\n",
    "df_locations.rename(columns={0:'Endereço', 1:'Latitude e Longitude'}, inplace=True)\n",
    "df_locations"
   ]
  }
 ],
 "metadata": {
  "kernelspec": {
   "display_name": "Python 3",
   "language": "python",
   "name": "python3"
  },
  "language_info": {
   "codemirror_mode": {
    "name": "ipython",
    "version": 3
   },
   "file_extension": ".py",
   "mimetype": "text/x-python",
   "name": "python",
   "nbconvert_exporter": "python",
   "pygments_lexer": "ipython3",
   "version": "3.8.5"
  }
 },
 "nbformat": 4,
 "nbformat_minor": 4
}
